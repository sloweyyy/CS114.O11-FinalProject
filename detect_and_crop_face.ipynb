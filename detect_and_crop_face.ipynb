{
 "cells": [
  {
   "cell_type": "markdown",
   "metadata": {},
   "source": [
    "# DETECT AND CROP FACE"
   ]
  },
  {
   "cell_type": "code",
   "execution_count": 2,
   "metadata": {},
   "outputs": [],
   "source": [
    "import cv2\n",
    "import dlib\n",
    "import os\n",
    "\n",
    "input_directory = \"image/sad\"\n",
    "output_directory = \"image/sad/output\"\n",
    "\n",
    "if not os.path.exists(output_directory):\n",
    "    os.makedirs(output_directory)\n",
    "\n",
    "face_detector = dlib.get_frontal_face_detector()\n",
    "\n",
    "for file in os.listdir(input_directory):\n",
    "    file_path = os.path.join(input_directory, file)\n",
    "\n",
    "    if file.endswith(\".jpg\") or file.endswith(\".png\"):\n",
    "        image = cv2.imread(file_path)\n",
    "        gray = cv2.cvtColor(image, cv2.COLOR_BGR2GRAY)\n",
    "\n",
    "        faces = face_detector(gray)\n",
    "\n",
    "        for face in faces:\n",
    "            x, y, w, h = face.left(), face.top(), face.width(), face.height()\n",
    "            x = max(0, x - 5)\n",
    "            y = max(0, y - 5)\n",
    "            w += 10\n",
    "            h += 10\n",
    "\n",
    "            face = image[y:y+h, x:x+w]\n",
    "            resized_face = cv2.resize(face, (48, 48))\n",
    "\n",
    "            output_path = os.path.join(output_directory, file)\n",
    "            cv2.imwrite(output_path, resized_face)\n"
   ]
  }
 ],
 "metadata": {
  "kernelspec": {
   "display_name": "Python 3",
   "language": "python",
   "name": "python3"
  },
  "language_info": {
   "codemirror_mode": {
    "name": "ipython",
    "version": 3
   },
   "file_extension": ".py",
   "mimetype": "text/x-python",
   "name": "python",
   "nbconvert_exporter": "python",
   "pygments_lexer": "ipython3",
   "version": "3.11.7"
  }
 },
 "nbformat": 4,
 "nbformat_minor": 2
}
