{
  "cells": [
    {
      "cell_type": "code",
      "execution_count": 9,
      "metadata": {
        "id": "eNBEDg1NTzwh"
      },
      "outputs": [],
      "source": [
        "# This Python 3 environment comes with many helpful analytics libraries installed\n",
        "# It is defined by the kaggle/python Docker image: https://github.com/kaggle/docker-python\n",
        "# For example, here's several helpful packages to load\n",
        "\n",
        "import numpy as np # linear algebra\n",
        "import pandas as pd # data processing, CSV file I/O (e.g. pd.read_csv)\n",
        "\n",
        "# Input data files are available in the read-only \"../input/\" directory\n",
        "# For example, running this (by clicking run or pressing Shift+Enter) will list all files under the input directory\n",
        "\n",
        "import os\n",
        "for dirname, _, filenames in os.walk('/kaggle/input'):\n",
        "    for filename in filenames:\n",
        "        print(os.path.join(dirname, filename))\n",
        "\n",
        "# You can write up to 20GB to the current directory (/kaggle/working/) that gets preserved as output when you create a version using \"Save & Run All\"\n",
        "# You can also write temporary files to /kaggle/temp/, but they won't be saved outside of the current session"
      ]
    },
    {
      "cell_type": "code",
      "execution_count": 10,
      "metadata": {
        "id": "6omNvIcITzwk"
      },
      "outputs": [],
      "source": [
        "import pandas as pd"
      ]
    },
    {
      "cell_type": "code",
      "execution_count": 44,
      "metadata": {
        "id": "CWGItGquTzwl"
      },
      "outputs": [],
      "source": [
        "data = pd.read_csv(\"fer2013.csv\")"
      ]
    },
    {
      "cell_type": "code",
      "execution_count": 45,
      "metadata": {
        "colab": {
          "base_uri": "https://localhost:8080/"
        },
        "id": "poXHzr3MTzwm",
        "outputId": "4a9ed6a7-047a-48a3-d9a7-f4b83db6238d"
      },
      "outputs": [
        {
          "data": {
            "text/plain": [
              "(35887, 3)"
            ]
          },
          "execution_count": 45,
          "metadata": {},
          "output_type": "execute_result"
        }
      ],
      "source": [
        "data.shape"
      ]
    },
    {
      "cell_type": "code",
      "execution_count": 46,
      "metadata": {
        "id": "FxQ5kFA-Tzwm"
      },
      "outputs": [],
      "source": [
        "x_data = data['pixels']\n",
        "y_data = data['emotion']"
      ]
    },
    {
      "cell_type": "code",
      "execution_count": 73,
      "metadata": {
        "colab": {
          "base_uri": "https://localhost:8080/",
          "height": 458
        },
        "id": "2weNVzB1Tzwm",
        "outputId": "49333901-b153-4995-a94f-97696248e55f"
      },
      "outputs": [
        {
          "data": {
            "image/png": "[encoded data removed]",
            "text/plain": [
              "<Figure size 640x480 with 1 Axes>"
            ]
          },
          "metadata": {},
          "output_type": "display_data"
        }
      ],
      "source": [
        "import seaborn as sns\n",
        "import matplotlib.pyplot as plt\n",
        "\n",
        "sns.set_theme(style=\"darkgrid\")\n",
        "ax = sns.countplot(x=\"emotion\", data=data)\n",
        "\n",
        "for p in ax.patches:\n",
        "    ax.annotate(f'{int(p.get_height())}', (p.get_x() + p.get_width() / 2., p.get_height()),\n",
        "                ha='center', va='center', fontsize=10, color='black', xytext=(0, 5),\n",
        "                textcoords='offset points')\n",
        "\n",
        "plt.show()\n"
      ]
    },
    {
      "cell_type": "code",
      "execution_count": 48,
      "metadata": {},
      "outputs": [
        {
          "name": "stdout",
          "output_type": "stream",
          "text": [
            "Requirement already satisfied: imbalanced-learn in d:\\uni\\hk3\\cs114machinelearning\\cs114-machine-learning\\.venv\\lib\\site-packages (0.11.0)\n",
            "Requirement already satisfied: numpy>=1.17.3 in d:\\uni\\hk3\\cs114machinelearning\\cs114-machine-learning\\.venv\\lib\\site-packages (from imbalanced-learn) (1.26.0)\n",
            "Requirement already satisfied: scipy>=1.5.0 in d:\\uni\\hk3\\cs114machinelearning\\cs114-machine-learning\\.venv\\lib\\site-packages (from imbalanced-learn) (1.11.3)\n",
            "Requirement already satisfied: scikit-learn>=1.0.2 in d:\\uni\\hk3\\cs114machinelearning\\cs114-machine-learning\\.venv\\lib\\site-packages (from imbalanced-learn) (1.3.1)\n",
            "Requirement already satisfied: joblib>=1.1.1 in d:\\uni\\hk3\\cs114machinelearning\\cs114-machine-learning\\.venv\\lib\\site-packages (from imbalanced-learn) (1.3.2)\n",
            "Requirement already satisfied: threadpoolctl>=2.0.0 in d:\\uni\\hk3\\cs114machinelearning\\cs114-machine-learning\\.venv\\lib\\site-packages (from imbalanced-learn) (3.2.0)\n",
            "Note: you may need to restart the kernel to use updated packages.\n"
          ]
        }
      ],
      "source": [
        "%pip install imbalanced-learn"
      ]
    },
    {
      "cell_type": "code",
      "execution_count": 52,
      "metadata": {
        "colab": {
          "base_uri": "https://localhost:8080/"
        },
        "id": "Pi_Tpm1VTzwm",
        "outputId": "bf1e13f9-fb9f-40ee-a145-726483117ed5"
      },
      "outputs": [
        {
          "name": "stdout",
          "output_type": "stream",
          "text": [
            "(62923, 1)   (62923,)\n"
          ]
        }
      ],
      "source": [
        "from imblearn.over_sampling import RandomOverSampler\n",
        "oversampler = RandomOverSampler(sampling_strategy='auto')\n",
        "\n",
        "x_data, y_data = oversampler.fit_resample(x_data.reshape(-1,1), y_data)\n",
        "print(x_data.shape,\" \",y_data.shape)\n",
        "\n"
      ]
    },
    {
      "cell_type": "code",
      "execution_count": 53,
      "metadata": {
        "colab": {
          "base_uri": "https://localhost:8080/"
        },
        "id": "MvFyjLCaTzwn",
        "outputId": "d9b778bc-0eb2-4af3-cf8d-c6a6247612c7"
      },
      "outputs": [
        {
          "data": {
            "text/plain": [
              "emotion\n",
              "0    8989\n",
              "2    8989\n",
              "4    8989\n",
              "6    8989\n",
              "3    8989\n",
              "5    8989\n",
              "1    8989\n",
              "Name: count, dtype: int64"
            ]
          },
          "execution_count": 53,
          "metadata": {},
          "output_type": "execute_result"
        }
      ],
      "source": [
        "y_data.value_counts()"
      ]
    },
    {
      "cell_type": "code",
      "execution_count": 54,
      "metadata": {
        "colab": {
          "base_uri": "https://localhost:8080/"
        },
        "id": "7kQZEV_pTzwn",
        "outputId": "589b4e74-3b2c-410c-fb7a-20f07bcb532b"
      },
      "outputs": [
        {
          "data": {
            "text/plain": [
              "0        70 80 82 72 58 58 60 63 54 58 60 48 89 115 121...\n",
              "1        151 150 147 155 148 133 111 140 170 174 182 15...\n",
              "2        231 212 156 164 174 138 161 173 182 200 106 38...\n",
              "3        24 32 36 30 32 23 19 20 30 41 21 22 32 34 21 1...\n",
              "4        4 0 0 0 0 0 0 0 0 0 0 0 3 15 23 28 48 50 58 84...\n",
              "                               ...                        \n",
              "62918    25 25 25 32 32 26 19 18 19 22 20 19 18 20 20 2...\n",
              "62919    246 226 41 35 36 68 102 106 111 129 122 126 12...\n",
              "62920    235 235 235 235 232 246 186 23 20 17 20 19 14 ...\n",
              "62921    250 247 249 248 247 246 247 247 245 241 244 24...\n",
              "62922    12 20 21 14 17 19 16 9 17 11 13 12 34 26 7 11 ...\n",
              "Length: 62923, dtype: object"
            ]
          },
          "execution_count": 54,
          "metadata": {},
          "output_type": "execute_result"
        }
      ],
      "source": [
        "x_data = pd.Series(x_data.flatten())\n",
        "x_data"
      ]
    },
    {
      "cell_type": "code",
      "execution_count": 55,
      "metadata": {
        "id": "Nq5QB3bgTzwo"
      },
      "outputs": [],
      "source": [
        "x_data = np.array(list(map(str.split, x_data)), np.float32)\n",
        "x_data/=255"
      ]
    },
    {
      "cell_type": "code",
      "execution_count": 56,
      "metadata": {
        "colab": {
          "base_uri": "https://localhost:8080/"
        },
        "id": "LSsp79EFTzwo",
        "outputId": "22171761-f37d-4d98-c42c-32d8a90fe2c5"
      },
      "outputs": [
        {
          "data": {
            "text/plain": [
              "(62923, 1)"
            ]
          },
          "execution_count": 56,
          "metadata": {},
          "output_type": "execute_result"
        }
      ],
      "source": [
        "y_data = np.array(y_data)\n",
        "y_data = y_data.reshape(y_data.shape[0], 1)\n",
        "y_data.shape"
      ]
    },
    {
      "cell_type": "code",
      "execution_count": 57,
      "metadata": {
        "id": "gi2X_reHTzwo"
      },
      "outputs": [],
      "source": [
        "from sklearn.model_selection import train_test_split"
      ]
    },
    {
      "cell_type": "code",
      "execution_count": 58,
      "metadata": {
        "colab": {
          "base_uri": "https://localhost:8080/"
        },
        "id": "kPOhbkt3Tzwo",
        "outputId": "83646998-42a1-4710-e751-3be20154edaf"
      },
      "outputs": [
        {
          "name": "stdout",
          "output_type": "stream",
          "text": [
            "(56630, 2304)   (56630, 1)\n"
          ]
        }
      ],
      "source": [
        "x_train, x_test, y_train, y_test = train_test_split(x_data, y_data, test_size = 0.1, random_state = 45)\n",
        "print(x_train.shape,\" \",y_train.shape)"
      ]
    },
    {
      "cell_type": "code",
      "execution_count": 59,
      "metadata": {
        "id": "3PI4UDORTzwp"
      },
      "outputs": [],
      "source": [
        "from sklearn.neighbors import KNeighborsClassifier"
      ]
    },
    {
      "cell_type": "markdown",
      "metadata": {
        "id": "qrLre2pnTzwp"
      },
      "source": [
        "# ***KNN CLASSIFIER*********"
      ]
    },
    {
      "cell_type": "code",
      "execution_count": 60,
      "metadata": {
        "colab": {
          "base_uri": "https://localhost:8080/",
          "height": 131
        },
        "id": "t_lIOqPUTzwq",
        "outputId": "7d3e9edd-6460-402f-a03c-7dbdaa62695f"
      },
      "outputs": [
        {
          "name": "stderr",
          "output_type": "stream",
          "text": [
            "d:\\Uni\\HK3\\CS114MachineLearning\\CS114-Machine-Learning\\.venv\\Lib\\site-packages\\sklearn\\neighbors\\_classification.py:233: DataConversionWarning: A column-vector y was passed when a 1d array was expected. Please change the shape of y to (n_samples,), for example using ravel().\n",
            "  return self._fit(X, y)\n"
          ]
        },
        {
          "data": {
            "text/html": [
              "<style>#sk-container-id-3 {color: black;}#sk-container-id-3 pre{padding: 0;}#sk-container-id-3 div.sk-toggleable {background-color: white;}#sk-container-id-3 label.sk-toggleable__label {cursor: pointer;display: block;width: 100%;margin-bottom: 0;padding: 0.3em;box-sizing: border-box;text-align: center;}#sk-container-id-3 label.sk-toggleable__label-arrow:before {content: \"▸\";float: left;margin-right: 0.25em;color: #696969;}#sk-container-id-3 label.sk-toggleable__label-arrow:hover:before {color: black;}#sk-container-id-3 div.sk-estimator:hover label.sk-toggleable__label-arrow:before {color: black;}#sk-container-id-3 div.sk-toggleable__content {max-height: 0;max-width: 0;overflow: hidden;text-align: left;background-color: #f0f8ff;}#sk-container-id-3 div.sk-toggleable__content pre {margin: 0.2em;color: black;border-radius: 0.25em;background-color: #f0f8ff;}#sk-container-id-3 input.sk-toggleable__control:checked~div.sk-toggleable__content {max-height: 200px;max-width: 100%;overflow: auto;}#sk-container-id-3 input.sk-toggleable__control:checked~label.sk-toggleable__label-arrow:before {content: \"▾\";}#sk-container-id-3 div.sk-estimator input.sk-toggleable__control:checked~label.sk-toggleable__label {background-color: #d4ebff;}#sk-container-id-3 div.sk-label input.sk-toggleable__control:checked~label.sk-toggleable__label {background-color: #d4ebff;}#sk-container-id-3 input.sk-hidden--visually {border: 0;clip: rect(1px 1px 1px 1px);clip: rect(1px, 1px, 1px, 1px);height: 1px;margin: -1px;overflow: hidden;padding: 0;position: absolute;width: 1px;}#sk-container-id-3 div.sk-estimator {font-family: monospace;background-color: #f0f8ff;border: 1px dotted black;border-radius: 0.25em;box-sizing: border-box;margin-bottom: 0.5em;}#sk-container-id-3 div.sk-estimator:hover {background-color: #d4ebff;}#sk-container-id-3 div.sk-parallel-item::after {content: \"\";width: 100%;border-bottom: 1px solid gray;flex-grow: 1;}#sk-container-id-3 div.sk-label:hover label.sk-toggleable__label {background-color: #d4ebff;}#sk-container-id-3 div.sk-serial::before {content: \"\";position: absolute;border-left: 1px solid gray;box-sizing: border-box;top: 0;bottom: 0;left: 50%;z-index: 0;}#sk-container-id-3 div.sk-serial {display: flex;flex-direction: column;align-items: center;background-color: white;padding-right: 0.2em;padding-left: 0.2em;position: relative;}#sk-container-id-3 div.sk-item {position: relative;z-index: 1;}#sk-container-id-3 div.sk-parallel {display: flex;align-items: stretch;justify-content: center;background-color: white;position: relative;}#sk-container-id-3 div.sk-item::before, #sk-container-id-3 div.sk-parallel-item::before {content: \"\";position: absolute;border-left: 1px solid gray;box-sizing: border-box;top: 0;bottom: 0;left: 50%;z-index: -1;}#sk-container-id-3 div.sk-parallel-item {display: flex;flex-direction: column;z-index: 1;position: relative;background-color: white;}#sk-container-id-3 div.sk-parallel-item:first-child::after {align-self: flex-end;width: 50%;}#sk-container-id-3 div.sk-parallel-item:last-child::after {align-self: flex-start;width: 50%;}#sk-container-id-3 div.sk-parallel-item:only-child::after {width: 0;}#sk-container-id-3 div.sk-dashed-wrapped {border: 1px dashed gray;margin: 0 0.4em 0.5em 0.4em;box-sizing: border-box;padding-bottom: 0.4em;background-color: white;}#sk-container-id-3 div.sk-label label {font-family: monospace;font-weight: bold;display: inline-block;line-height: 1.2em;}#sk-container-id-3 div.sk-label-container {text-align: center;}#sk-container-id-3 div.sk-container {/* jupyter's `normalize.less` sets `[hidden] { display: none; }` but bootstrap.min.css set `[hidden] { display: none !important; }` so we also need the `!important` here to be able to override the default hidden behavior on the sphinx rendered scikit-learn.org. See: https://github.com/scikit-learn/scikit-learn/issues/21755 */display: inline-block !important;position: relative;}#sk-container-id-3 div.sk-text-repr-fallback {display: none;}</style><div id=\"sk-container-id-3\" class=\"sk-top-container\"><div class=\"sk-text-repr-fallback\"><pre>KNeighborsClassifier(n_neighbors=3)</pre><b>In a Jupyter environment, please rerun this cell to show the HTML representation or trust the notebook. <br />On GitHub, the HTML representation is unable to render, please try loading this page with nbviewer.org.</b></div><div class=\"sk-container\" hidden><div class=\"sk-item\"><div class=\"sk-estimator sk-toggleable\"><input class=\"sk-toggleable__control sk-hidden--visually\" id=\"sk-estimator-id-3\" type=\"checkbox\" checked><label for=\"sk-estimator-id-3\" class=\"sk-toggleable__label sk-toggleable__label-arrow\">KNeighborsClassifier</label><div class=\"sk-toggleable__content\"><pre>KNeighborsClassifier(n_neighbors=3)</pre></div></div></div></div></div>"
            ],
            "text/plain": [
              "KNeighborsClassifier(n_neighbors=3)"
            ]
          },
          "execution_count": 60,
          "metadata": {},
          "output_type": "execute_result"
        }
      ],
      "source": [
        "knn=KNeighborsClassifier(n_neighbors=3)\n",
        "knn.fit(x_train,y_train)"
      ]
    },
    {
      "cell_type": "code",
      "execution_count": 61,
      "metadata": {
        "colab": {
          "base_uri": "https://localhost:8080/"
        },
        "id": "2wExoKklTzwq",
        "outputId": "f645bf28-bd33-4106-c69c-2e9e9d1df859"
      },
      "outputs": [
        {
          "data": {
            "text/plain": [
              "0.6345145399650405"
            ]
          },
          "execution_count": 61,
          "metadata": {},
          "output_type": "execute_result"
        }
      ],
      "source": [
        "knn.score(x_test,y_test)"
      ]
    },
    {
      "cell_type": "code",
      "execution_count": 62,
      "metadata": {
        "id": "qLxV3nUWTzwq"
      },
      "outputs": [],
      "source": [
        "from sklearn.metrics import confusion_matrix\n",
        "y_pred=knn.predict(x_test)\n",
        "cm=confusion_matrix(y_test,y_pred)"
      ]
    },
    {
      "cell_type": "code",
      "execution_count": 63,
      "metadata": {
        "colab": {
          "base_uri": "https://localhost:8080/"
        },
        "id": "Hd1JNq0wTzwq",
        "outputId": "27140936-6ca4-45bb-a5b0-eb613bf90d71"
      },
      "outputs": [
        {
          "data": {
            "text/plain": [
              "array([[651,  12,  51,  57,  40,  37,  87],\n",
              "       [  0, 895,   0,   0,   0,   0,   0],\n",
              "       [ 72,  12, 592,  33,  63,  42,  66],\n",
              "       [133,  37, 112, 265,  88,  60, 211],\n",
              "       [105,  17,  98, 104, 395,  30, 139],\n",
              "       [ 35,   5,  47,  33,  19, 707,  23],\n",
              "       [ 93,  24, 101,  94,  76,  44, 488]], dtype=int64)"
            ]
          },
          "execution_count": 63,
          "metadata": {},
          "output_type": "execute_result"
        }
      ],
      "source": [
        "cm"
      ]
    },
    {
      "cell_type": "code",
      "execution_count": 64,
      "metadata": {
        "colab": {
          "base_uri": "https://localhost:8080/",
          "height": 491
        },
        "id": "rdTiT3eZTzwr",
        "outputId": "164522e0-3225-4d0c-e1c5-f0d6ddbc86e3"
      },
      "outputs": [
        {
          "data": {
            "text/plain": [
              "Text(54.75, 0.5, 'Truth')"
            ]
          },
          "execution_count": 64,
          "metadata": {},
          "output_type": "execute_result"
        },
        {
          "data": {
            "image/png": "[encoded data removed]",
            "text/plain": [
              "<Figure size 700x500 with 2 Axes>"
            ]
          },
          "metadata": {},
          "output_type": "display_data"
        }
      ],
      "source": [
        "%matplotlib inline\n",
        "\n",
        "import matplotlib.pyplot as plt\n",
        "import seaborn as sns\n",
        "plt.figure(figsize=(7,5))\n",
        "sns.heatmap(cm,annot=True)\n",
        "plt.xlabel(\"Predicted\")\n",
        "plt.ylabel(\"Truth\")"
      ]
    },
    {
      "cell_type": "code",
      "execution_count": 81,
      "metadata": {},
      "outputs": [
        {
          "data": {
            "text/plain": [
              "['knn.joblib']"
            ]
          },
          "execution_count": 81,
          "metadata": {},
          "output_type": "execute_result"
        },
        {
          "name": "stderr",
          "output_type": "stream",
          "text": [
            "d:\\Uni\\HK3\\CS114MachineLearning\\CS114-Machine-Learning\\.venv\\Lib\\site-packages\\gradio\\components\\button.py:89: UserWarning: Using the update method is deprecated. Simply return a new object instead, e.g. `return gr.Button(...)` instead of `return gr.Button.update(...)`.\n",
            "  warnings.warn(\n",
            "d:\\Uni\\HK3\\CS114MachineLearning\\CS114-Machine-Learning\\.venv\\Lib\\site-packages\\gradio\\components\\button.py:89: UserWarning: Using the update method is deprecated. Simply return a new object instead, e.g. `return gr.Button(...)` instead of `return gr.Button.update(...)`.\n",
            "  warnings.warn(\n"
          ]
        }
      ],
      "source": [
        "from joblib import dump, load\n",
        "dump(knn, 'knn.joblib')"
      ]
    },
    {
      "cell_type": "markdown",
      "metadata": {
        "id": "F4bp_rEDTzwr"
      },
      "source": [
        "# ***RANDOM FOREST***"
      ]
    },
    {
      "cell_type": "code",
      "execution_count": 65,
      "metadata": {
        "colab": {
          "base_uri": "https://localhost:8080/",
          "height": 131
        },
        "id": "csWPLVMPTzwr",
        "outputId": "dfd38443-5e63-46fd-eb5e-a486b7db7372"
      },
      "outputs": [
        {
          "name": "stderr",
          "output_type": "stream",
          "text": [
            "d:\\Uni\\HK3\\CS114MachineLearning\\CS114-Machine-Learning\\.venv\\Lib\\site-packages\\sklearn\\base.py:1152: DataConversionWarning: A column-vector y was passed when a 1d array was expected. Please change the shape of y to (n_samples,), for example using ravel().\n",
            "  return fit_method(estimator, *args, **kwargs)\n"
          ]
        },
        {
          "data": {
            "text/html": [
              "<style>#sk-container-id-4 {color: black;}#sk-container-id-4 pre{padding: 0;}#sk-container-id-4 div.sk-toggleable {background-color: white;}#sk-container-id-4 label.sk-toggleable__label {cursor: pointer;display: block;width: 100%;margin-bottom: 0;padding: 0.3em;box-sizing: border-box;text-align: center;}#sk-container-id-4 label.sk-toggleable__label-arrow:before {content: \"▸\";float: left;margin-right: 0.25em;color: #696969;}#sk-container-id-4 label.sk-toggleable__label-arrow:hover:before {color: black;}#sk-container-id-4 div.sk-estimator:hover label.sk-toggleable__label-arrow:before {color: black;}#sk-container-id-4 div.sk-toggleable__content {max-height: 0;max-width: 0;overflow: hidden;text-align: left;background-color: #f0f8ff;}#sk-container-id-4 div.sk-toggleable__content pre {margin: 0.2em;color: black;border-radius: 0.25em;background-color: #f0f8ff;}#sk-container-id-4 input.sk-toggleable__control:checked~div.sk-toggleable__content {max-height: 200px;max-width: 100%;overflow: auto;}#sk-container-id-4 input.sk-toggleable__control:checked~label.sk-toggleable__label-arrow:before {content: \"▾\";}#sk-container-id-4 div.sk-estimator input.sk-toggleable__control:checked~label.sk-toggleable__label {background-color: #d4ebff;}#sk-container-id-4 div.sk-label input.sk-toggleable__control:checked~label.sk-toggleable__label {background-color: #d4ebff;}#sk-container-id-4 input.sk-hidden--visually {border: 0;clip: rect(1px 1px 1px 1px);clip: rect(1px, 1px, 1px, 1px);height: 1px;margin: -1px;overflow: hidden;padding: 0;position: absolute;width: 1px;}#sk-container-id-4 div.sk-estimator {font-family: monospace;background-color: #f0f8ff;border: 1px dotted black;border-radius: 0.25em;box-sizing: border-box;margin-bottom: 0.5em;}#sk-container-id-4 div.sk-estimator:hover {background-color: #d4ebff;}#sk-container-id-4 div.sk-parallel-item::after {content: \"\";width: 100%;border-bottom: 1px solid gray;flex-grow: 1;}#sk-container-id-4 div.sk-label:hover label.sk-toggleable__label {background-color: #d4ebff;}#sk-container-id-4 div.sk-serial::before {content: \"\";position: absolute;border-left: 1px solid gray;box-sizing: border-box;top: 0;bottom: 0;left: 50%;z-index: 0;}#sk-container-id-4 div.sk-serial {display: flex;flex-direction: column;align-items: center;background-color: white;padding-right: 0.2em;padding-left: 0.2em;position: relative;}#sk-container-id-4 div.sk-item {position: relative;z-index: 1;}#sk-container-id-4 div.sk-parallel {display: flex;align-items: stretch;justify-content: center;background-color: white;position: relative;}#sk-container-id-4 div.sk-item::before, #sk-container-id-4 div.sk-parallel-item::before {content: \"\";position: absolute;border-left: 1px solid gray;box-sizing: border-box;top: 0;bottom: 0;left: 50%;z-index: -1;}#sk-container-id-4 div.sk-parallel-item {display: flex;flex-direction: column;z-index: 1;position: relative;background-color: white;}#sk-container-id-4 div.sk-parallel-item:first-child::after {align-self: flex-end;width: 50%;}#sk-container-id-4 div.sk-parallel-item:last-child::after {align-self: flex-start;width: 50%;}#sk-container-id-4 div.sk-parallel-item:only-child::after {width: 0;}#sk-container-id-4 div.sk-dashed-wrapped {border: 1px dashed gray;margin: 0 0.4em 0.5em 0.4em;box-sizing: border-box;padding-bottom: 0.4em;background-color: white;}#sk-container-id-4 div.sk-label label {font-family: monospace;font-weight: bold;display: inline-block;line-height: 1.2em;}#sk-container-id-4 div.sk-label-container {text-align: center;}#sk-container-id-4 div.sk-container {/* jupyter's `normalize.less` sets `[hidden] { display: none; }` but bootstrap.min.css set `[hidden] { display: none !important; }` so we also need the `!important` here to be able to override the default hidden behavior on the sphinx rendered scikit-learn.org. See: https://github.com/scikit-learn/scikit-learn/issues/21755 */display: inline-block !important;position: relative;}#sk-container-id-4 div.sk-text-repr-fallback {display: none;}</style><div id=\"sk-container-id-4\" class=\"sk-top-container\"><div class=\"sk-text-repr-fallback\"><pre>RandomForestClassifier()</pre><b>In a Jupyter environment, please rerun this cell to show the HTML representation or trust the notebook. <br />On GitHub, the HTML representation is unable to render, please try loading this page with nbviewer.org.</b></div><div class=\"sk-container\" hidden><div class=\"sk-item\"><div class=\"sk-estimator sk-toggleable\"><input class=\"sk-toggleable__control sk-hidden--visually\" id=\"sk-estimator-id-4\" type=\"checkbox\" checked><label for=\"sk-estimator-id-4\" class=\"sk-toggleable__label sk-toggleable__label-arrow\">RandomForestClassifier</label><div class=\"sk-toggleable__content\"><pre>RandomForestClassifier()</pre></div></div></div></div></div>"
            ],
            "text/plain": [
              "RandomForestClassifier()"
            ]
          },
          "execution_count": 65,
          "metadata": {},
          "output_type": "execute_result"
        }
      ],
      "source": [
        "from sklearn.ensemble import RandomForestClassifier\n",
        "model=RandomForestClassifier()\n",
        "model.fit(x_train,y_train)"
      ]
    },
    {
      "cell_type": "code",
      "execution_count": 66,
      "metadata": {
        "colab": {
          "base_uri": "https://localhost:8080/"
        },
        "id": "5RvyjqIHTzwr",
        "outputId": "da951f0e-9cf7-45e4-82c9-aded3aa32fdc"
      },
      "outputs": [
        {
          "data": {
            "text/plain": [
              "0.8034323851898936"
            ]
          },
          "execution_count": 66,
          "metadata": {},
          "output_type": "execute_result"
        }
      ],
      "source": [
        "model.score(x_test,y_test)"
      ]
    },
    {
      "cell_type": "code",
      "execution_count": 67,
      "metadata": {
        "id": "XUJrJ1G0Tzwr"
      },
      "outputs": [],
      "source": [
        "from sklearn.metrics import confusion_matrix\n",
        "y_pred=model.predict(x_test)\n",
        "cm=confusion_matrix(y_test,y_pred)"
      ]
    },
    {
      "cell_type": "code",
      "execution_count": 68,
      "metadata": {
        "colab": {
          "base_uri": "https://localhost:8080/"
        },
        "id": "j10sgmh3Tzwr",
        "outputId": "e92c1898-1076-4dbf-b211-76f1d9a896f2"
      },
      "outputs": [
        {
          "data": {
            "text/plain": [
              "array([[741,   0,  23,  84,  51,   5,  31],\n",
              "       [  0, 895,   0,   0,   0,   0,   0],\n",
              "       [ 14,   0, 715,  59,  36,  28,  28],\n",
              "       [ 47,   0,  42, 614,  86,  31,  86],\n",
              "       [ 29,   0,  47, 116, 622,  10,  64],\n",
              "       [  3,   3,   9,  30,   7, 805,  12],\n",
              "       [ 29,   0,  30, 114,  61,  22, 664]], dtype=int64)"
            ]
          },
          "execution_count": 68,
          "metadata": {},
          "output_type": "execute_result"
        }
      ],
      "source": [
        "cm"
      ]
    },
    {
      "cell_type": "code",
      "execution_count": 69,
      "metadata": {
        "colab": {
          "base_uri": "https://localhost:8080/",
          "height": 491
        },
        "id": "HB7I-GXxTzwr",
        "outputId": "3d609bb3-78b9-4521-fe45-cdb092d49ac5"
      },
      "outputs": [
        {
          "data": {
            "text/plain": [
              "Text(54.75, 0.5, 'Truth')"
            ]
          },
          "execution_count": 69,
          "metadata": {},
          "output_type": "execute_result"
        },
        {
          "data": {
            "image/png": "[encoded data removed]",
            "text/plain": [
              "<Figure size 700x500 with 2 Axes>"
            ]
          },
          "metadata": {},
          "output_type": "display_data"
        }
      ],
      "source": [
        "%matplotlib inline\n",
        "\n",
        "import matplotlib.pyplot as plt\n",
        "import seaborn as sns\n",
        "plt.figure(figsize=(7,5))\n",
        "sns.heatmap(cm,annot=True)\n",
        "plt.xlabel(\"Predicted\")\n",
        "plt.ylabel(\"Truth\")"
      ]
    },
    {
      "cell_type": "code",
      "execution_count": 70,
      "metadata": {
        "colab": {
          "base_uri": "https://localhost:8080/"
        },
        "id": "4IoaMdLg3fKG",
        "outputId": "f20a686a-d937-4699-bd09-6e086b08de18"
      },
      "outputs": [
        {
          "data": {
            "text/plain": [
              "['random_forest_model.joblib']"
            ]
          },
          "execution_count": 70,
          "metadata": {},
          "output_type": "execute_result"
        }
      ],
      "source": [
        "from joblib import dump, load\n",
        "dump(model, 'random_forest_model.joblib')"
      ]
    },
    {
      "cell_type": "markdown",
      "metadata": {
        "id": "nReInddewfu6"
      },
      "source": [
        "# GRADIO.APP"
      ]
    },
    {
      "cell_type": "code",
      "execution_count": 71,
      "metadata": {
        "colab": {
          "base_uri": "https://localhost:8080/"
        },
        "id": "EFQnZ5z13sNN",
        "outputId": "18ef431b-1aea-4c70-ee58-443d9b2c730b"
      },
      "outputs": [
        {
          "name": "stdout",
          "output_type": "stream",
          "text": [
            "Requirement already satisfied: gradio in d:\\uni\\hk3\\cs114machinelearning\\cs114-machine-learning\\.venv\\lib\\site-packages (3.47.1)\n",
            "Requirement already satisfied: aiofiles<24.0,>=22.0 in d:\\uni\\hk3\\cs114machinelearning\\cs114-machine-learning\\.venv\\lib\\site-packages (from gradio) (22.1.0)\n",
            "Requirement already satisfied: altair<6.0,>=4.2.0 in d:\\uni\\hk3\\cs114machinelearning\\cs114-machine-learning\\.venv\\lib\\site-packages (from gradio) (5.1.2)\n",
            "Requirement already satisfied: fastapi in d:\\uni\\hk3\\cs114machinelearning\\cs114-machine-learning\\.venv\\lib\\site-packages (from gradio) (0.103.2)\n",
            "Requirement already satisfied: ffmpy in d:\\uni\\hk3\\cs114machinelearning\\cs114-machine-learning\\.venv\\lib\\site-packages (from gradio) (0.3.1)\n",
            "Requirement already satisfied: gradio-client==0.6.0 in d:\\uni\\hk3\\cs114machinelearning\\cs114-machine-learning\\.venv\\lib\\site-packages (from gradio) (0.6.0)\n",
            "Requirement already satisfied: httpx in d:\\uni\\hk3\\cs114machinelearning\\cs114-machine-learning\\.venv\\lib\\site-packages (from gradio) (0.25.0)\n",
            "Requirement already satisfied: huggingface-hub>=0.14.0 in d:\\uni\\hk3\\cs114machinelearning\\cs114-machine-learning\\.venv\\lib\\site-packages (from gradio) (0.17.3)\n",
            "Requirement already satisfied: importlib-resources<7.0,>=1.3 in d:\\uni\\hk3\\cs114machinelearning\\cs114-machine-learning\\.venv\\lib\\site-packages (from gradio) (6.1.0)\n",
            "Requirement already satisfied: jinja2<4.0 in d:\\uni\\hk3\\cs114machinelearning\\cs114-machine-learning\\.venv\\lib\\site-packages (from gradio) (3.1.2)\n",
            "Requirement already satisfied: markupsafe~=2.0 in d:\\uni\\hk3\\cs114machinelearning\\cs114-machine-learning\\.venv\\lib\\site-packages (from gradio) (2.1.3)\n",
            "Requirement already satisfied: matplotlib~=3.0 in d:\\uni\\hk3\\cs114machinelearning\\cs114-machine-learning\\.venv\\lib\\site-packages (from gradio) (3.8.0)\n",
            "Requirement already satisfied: numpy~=1.0 in d:\\uni\\hk3\\cs114machinelearning\\cs114-machine-learning\\.venv\\lib\\site-packages (from gradio) (1.26.0)\n",
            "Requirement already satisfied: orjson~=3.0 in d:\\uni\\hk3\\cs114machinelearning\\cs114-machine-learning\\.venv\\lib\\site-packages (from gradio) (3.9.7)\n",
            "Requirement already satisfied: packaging in d:\\uni\\hk3\\cs114machinelearning\\cs114-machine-learning\\.venv\\lib\\site-packages (from gradio) (23.2)\n",
            "Requirement already satisfied: pandas<3.0,>=1.0 in d:\\uni\\hk3\\cs114machinelearning\\cs114-machine-learning\\.venv\\lib\\site-packages (from gradio) (2.1.1)\n",
            "Requirement already satisfied: pillow<11.0,>=8.0 in d:\\uni\\hk3\\cs114machinelearning\\cs114-machine-learning\\.venv\\lib\\site-packages (from gradio) (10.0.1)\n",
            "Requirement already satisfied: pydantic!=1.8,!=1.8.1,!=2.0.0,!=2.0.1,<3.0.0,>=1.7.4 in d:\\uni\\hk3\\cs114machinelearning\\cs114-machine-learning\\.venv\\lib\\site-packages (from gradio) (1.10.13)\n",
            "Requirement already satisfied: pydub in d:\\uni\\hk3\\cs114machinelearning\\cs114-machine-learning\\.venv\\lib\\site-packages (from gradio) (0.25.1)\n",
            "Requirement already satisfied: python-multipart in d:\\uni\\hk3\\cs114machinelearning\\cs114-machine-learning\\.venv\\lib\\site-packages (from gradio) (0.0.6)\n",
            "Requirement already satisfied: pyyaml<7.0,>=5.0 in d:\\uni\\hk3\\cs114machinelearning\\cs114-machine-learning\\.venv\\lib\\site-packages (from gradio) (6.0.1)\n",
            "Requirement already satisfied: requests~=2.0 in d:\\uni\\hk3\\cs114machinelearning\\cs114-machine-learning\\.venv\\lib\\site-packages (from gradio) (2.31.0)\n",
            "Requirement already satisfied: semantic-version~=2.0 in d:\\uni\\hk3\\cs114machinelearning\\cs114-machine-learning\\.venv\\lib\\site-packages (from gradio) (2.10.0)\n",
            "Requirement already satisfied: typing-extensions~=4.0 in d:\\uni\\hk3\\cs114machinelearning\\cs114-machine-learning\\.venv\\lib\\site-packages (from gradio) (4.8.0)\n",
            "Requirement already satisfied: uvicorn>=0.14.0 in d:\\uni\\hk3\\cs114machinelearning\\cs114-machine-learning\\.venv\\lib\\site-packages (from gradio) (0.23.2)\n",
            "Requirement already satisfied: websockets<12.0,>=10.0 in d:\\uni\\hk3\\cs114machinelearning\\cs114-machine-learning\\.venv\\lib\\site-packages (from gradio) (11.0.3)\n",
            "Requirement already satisfied: fsspec in d:\\uni\\hk3\\cs114machinelearning\\cs114-machine-learning\\.venv\\lib\\site-packages (from gradio-client==0.6.0->gradio) (2023.9.2)\n",
            "Requirement already satisfied: jsonschema>=3.0 in d:\\uni\\hk3\\cs114machinelearning\\cs114-machine-learning\\.venv\\lib\\site-packages (from altair<6.0,>=4.2.0->gradio) (4.19.1)\n",
            "Requirement already satisfied: toolz in d:\\uni\\hk3\\cs114machinelearning\\cs114-machine-learning\\.venv\\lib\\site-packages (from altair<6.0,>=4.2.0->gradio) (0.12.0)\n",
            "Requirement already satisfied: filelock in d:\\uni\\hk3\\cs114machinelearning\\cs114-machine-learning\\.venv\\lib\\site-packages (from huggingface-hub>=0.14.0->gradio) (3.12.4)\n",
            "Requirement already satisfied: tqdm>=4.42.1 in d:\\uni\\hk3\\cs114machinelearning\\cs114-machine-learning\\.venv\\lib\\site-packages (from huggingface-hub>=0.14.0->gradio) (4.66.1)\n",
            "Requirement already satisfied: contourpy>=1.0.1 in d:\\uni\\hk3\\cs114machinelearning\\cs114-machine-learning\\.venv\\lib\\site-packages (from matplotlib~=3.0->gradio) (1.1.1)\n",
            "Requirement already satisfied: cycler>=0.10 in d:\\uni\\hk3\\cs114machinelearning\\cs114-machine-learning\\.venv\\lib\\site-packages (from matplotlib~=3.0->gradio) (0.12.1)\n",
            "Requirement already satisfied: fonttools>=4.22.0 in d:\\uni\\hk3\\cs114machinelearning\\cs114-machine-learning\\.venv\\lib\\site-packages (from matplotlib~=3.0->gradio) (4.43.1)\n",
            "Requirement already satisfied: kiwisolver>=1.0.1 in d:\\uni\\hk3\\cs114machinelearning\\cs114-machine-learning\\.venv\\lib\\site-packages (from matplotlib~=3.0->gradio) (1.4.5)\n",
            "Requirement already satisfied: pyparsing>=2.3.1 in d:\\uni\\hk3\\cs114machinelearning\\cs114-machine-learning\\.venv\\lib\\site-packages (from matplotlib~=3.0->gradio) (3.1.1)\n",
            "Requirement already satisfied: python-dateutil>=2.7 in d:\\uni\\hk3\\cs114machinelearning\\cs114-machine-learning\\.venv\\lib\\site-packages (from matplotlib~=3.0->gradio) (2.8.2)\n",
            "Requirement already satisfied: pytz>=2020.1 in d:\\uni\\hk3\\cs114machinelearning\\cs114-machine-learning\\.venv\\lib\\site-packages (from pandas<3.0,>=1.0->gradio) (2023.3.post1)\n",
            "Requirement already satisfied: tzdata>=2022.1 in d:\\uni\\hk3\\cs114machinelearning\\cs114-machine-learning\\.venv\\lib\\site-packages (from pandas<3.0,>=1.0->gradio) (2023.3)\n",
            "Requirement already satisfied: charset-normalizer<4,>=2 in d:\\uni\\hk3\\cs114machinelearning\\cs114-machine-learning\\.venv\\lib\\site-packages (from requests~=2.0->gradio) (3.3.0)\n",
            "Requirement already satisfied: idna<4,>=2.5 in d:\\uni\\hk3\\cs114machinelearning\\cs114-machine-learning\\.venv\\lib\\site-packages (from requests~=2.0->gradio) (3.4)\n",
            "Requirement already satisfied: urllib3<3,>=1.21.1 in d:\\uni\\hk3\\cs114machinelearning\\cs114-machine-learning\\.venv\\lib\\site-packages (from requests~=2.0->gradio) (2.0.6)\n",
            "Requirement already satisfied: certifi>=2017.4.17 in d:\\uni\\hk3\\cs114machinelearning\\cs114-machine-learning\\.venv\\lib\\site-packages (from requests~=2.0->gradio) (2023.7.22)\n",
            "Requirement already satisfied: click>=7.0 in d:\\uni\\hk3\\cs114machinelearning\\cs114-machine-learning\\.venv\\lib\\site-packages (from uvicorn>=0.14.0->gradio) (8.1.7)\n",
            "Requirement already satisfied: h11>=0.8 in d:\\uni\\hk3\\cs114machinelearning\\cs114-machine-learning\\.venv\\lib\\site-packages (from uvicorn>=0.14.0->gradio) (0.14.0)\n",
            "Requirement already satisfied: anyio<4.0.0,>=3.7.1 in d:\\uni\\hk3\\cs114machinelearning\\cs114-machine-learning\\.venv\\lib\\site-packages (from fastapi->gradio) (3.7.1)\n",
            "Requirement already satisfied: starlette<0.28.0,>=0.27.0 in d:\\uni\\hk3\\cs114machinelearning\\cs114-machine-learning\\.venv\\lib\\site-packages (from fastapi->gradio) (0.27.0)\n",
            "Requirement already satisfied: httpcore<0.19.0,>=0.18.0 in d:\\uni\\hk3\\cs114machinelearning\\cs114-machine-learning\\.venv\\lib\\site-packages (from httpx->gradio) (0.18.0)\n",
            "Requirement already satisfied: sniffio in d:\\uni\\hk3\\cs114machinelearning\\cs114-machine-learning\\.venv\\lib\\site-packages (from httpx->gradio) (1.3.0)\n",
            "Requirement already satisfied: colorama in d:\\uni\\hk3\\cs114machinelearning\\cs114-machine-learning\\.venv\\lib\\site-packages (from click>=7.0->uvicorn>=0.14.0->gradio) (0.4.6)\n",
            "Requirement already satisfied: attrs>=22.2.0 in d:\\uni\\hk3\\cs114machinelearning\\cs114-machine-learning\\.venv\\lib\\site-packages (from jsonschema>=3.0->altair<6.0,>=4.2.0->gradio) (23.1.0)\n",
            "Requirement already satisfied: jsonschema-specifications>=2023.03.6 in d:\\uni\\hk3\\cs114machinelearning\\cs114-machine-learning\\.venv\\lib\\site-packages (from jsonschema>=3.0->altair<6.0,>=4.2.0->gradio) (2023.7.1)\n",
            "Requirement already satisfied: referencing>=0.28.4 in d:\\uni\\hk3\\cs114machinelearning\\cs114-machine-learning\\.venv\\lib\\site-packages (from jsonschema>=3.0->altair<6.0,>=4.2.0->gradio) (0.30.2)\n",
            "Requirement already satisfied: rpds-py>=0.7.1 in d:\\uni\\hk3\\cs114machinelearning\\cs114-machine-learning\\.venv\\lib\\site-packages (from jsonschema>=3.0->altair<6.0,>=4.2.0->gradio) (0.10.4)\n",
            "Requirement already satisfied: six>=1.5 in d:\\uni\\hk3\\cs114machinelearning\\cs114-machine-learning\\.venv\\lib\\site-packages (from python-dateutil>=2.7->matplotlib~=3.0->gradio) (1.16.0)\n",
            "Note: you may need to restart the kernel to use updated packages.\n"
          ]
        }
      ],
      "source": [
        "%pip install gradio\n"
      ]
    },
    {
      "cell_type": "markdown",
      "metadata": {},
      "source": [
        "RANDOM FOREST MODEL"
      ]
    },
    {
      "cell_type": "code",
      "execution_count": 80,
      "metadata": {
        "colab": {
          "base_uri": "https://localhost:8080/",
          "height": 606
        },
        "id": "9Jep-yyBwe2K",
        "outputId": "42f16c0b-0c23-43ca-cb34-301ae9d6b009"
      },
      "outputs": [
        {
          "name": "stdout",
          "output_type": "stream",
          "text": [
            "Running on local URL:  http://127.0.0.1:7866\n",
            "\n",
            "To create a public link, set `share=True` in `launch()`.\n"
          ]
        },
        {
          "data": {
            "text/html": [
              "<div><iframe src=\"http://127.0.0.1:7866/\" width=\"100%\" height=\"500\" allow=\"autoplay; camera; microphone; clipboard-read; clipboard-write;\" frameborder=\"0\" allowfullscreen></iframe></div>"
            ],
            "text/plain": [
              "<IPython.core.display.HTML object>"
            ]
          },
          "metadata": {},
          "output_type": "display_data"
        },
        {
          "data": {
            "text/plain": []
          },
          "execution_count": 80,
          "metadata": {},
          "output_type": "execute_result"
        }
      ],
      "source": [
        "import gradio as gr\n",
        "import numpy as np\n",
        "from PIL import Image\n",
        "from joblib import load\n",
        "\n",
        "# Load the trained model\n",
        "model = load('random_forest_model.joblib')\n",
        "\n",
        "emotion_labels = {\n",
        "    0: \"Disgust\", \n",
        "    1: \"Surprise\", \n",
        "    2: \"Angry\",    \n",
        "    3: \"Fear\",    \n",
        "    4: \"Sad\",      \n",
        "    5: \"Neutral\", \n",
        "    6: \"Happy\"     \n",
        "}  \n",
        "\n",
        "\n",
        "def predict_emotion(image):\n",
        "    processed_image = Image.fromarray(image).convert('L').resize((48, 48))\n",
        "    processed_image = np.array(processed_image).flatten().reshape(1, -1) / 255.0\n",
        "    \n",
        "    prediction = model.predict(processed_image)[0]  \n",
        "    emotion = emotion_labels[prediction]  \n",
        "    return emotion\n",
        "\n",
        "iface = gr.Interface(\n",
        "    fn=predict_emotion,\n",
        "    inputs=gr.inputs.Image(shape=(48, 48), source=\"upload\", tool=\"editor\"),\n",
        "    outputs=\"text\",\n",
        "    title=\"Emotion Detection\",\n",
        "    description=\"Upload an image and predict the emotion.\"\n",
        ")\n",
        "\n",
        "iface.launch()\n"
      ]
    },
    {
      "cell_type": "markdown",
      "metadata": {},
      "source": [
        "KNN CLASSIFIER"
      ]
    },
    {
      "cell_type": "code",
      "execution_count": 76,
      "metadata": {},
      "outputs": [
        {
          "name": "stderr",
          "output_type": "stream",
          "text": [
            "C:\\Users\\Admin\\AppData\\Local\\Temp\\ipykernel_30976\\4012898060.py:30: GradioDeprecationWarning: Usage of gradio.inputs is deprecated, and will not be supported in the future, please import your component from gradio.components\n",
            "  inputs=gr.inputs.Image(shape=(48, 48)),\n",
            "C:\\Users\\Admin\\AppData\\Local\\Temp\\ipykernel_30976\\4012898060.py:30: GradioDeprecationWarning: `optional` parameter is deprecated, and it has no effect\n",
            "  inputs=gr.inputs.Image(shape=(48, 48)),\n"
          ]
        },
        {
          "name": "stdout",
          "output_type": "stream",
          "text": [
            "Running on local URL:  http://127.0.0.1:7863\n",
            "\n",
            "To create a public link, set `share=True` in `launch()`.\n"
          ]
        },
        {
          "data": {
            "text/html": [
              "<div><iframe src=\"http://127.0.0.1:7863/\" width=\"100%\" height=\"500\" allow=\"autoplay; camera; microphone; clipboard-read; clipboard-write;\" frameborder=\"0\" allowfullscreen></iframe></div>"
            ],
            "text/plain": [
              "<IPython.core.display.HTML object>"
            ]
          },
          "metadata": {},
          "output_type": "display_data"
        },
        {
          "data": {
            "text/plain": []
          },
          "execution_count": 76,
          "metadata": {},
          "output_type": "execute_result"
        },
        {
          "name": "stderr",
          "output_type": "stream",
          "text": [
            "d:\\Uni\\HK3\\CS114MachineLearning\\CS114-Machine-Learning\\.venv\\Lib\\site-packages\\gradio\\components\\button.py:89: UserWarning: Using the update method is deprecated. Simply return a new object instead, e.g. `return gr.Button(...)` instead of `return gr.Button.update(...)`.\n",
            "  warnings.warn(\n",
            "d:\\Uni\\HK3\\CS114MachineLearning\\CS114-Machine-Learning\\.venv\\Lib\\site-packages\\gradio\\components\\button.py:89: UserWarning: Using the update method is deprecated. Simply return a new object instead, e.g. `return gr.Button(...)` instead of `return gr.Button.update(...)`.\n",
            "  warnings.warn(\n",
            "d:\\Uni\\HK3\\CS114MachineLearning\\CS114-Machine-Learning\\.venv\\Lib\\site-packages\\gradio\\components\\button.py:89: UserWarning: Using the update method is deprecated. Simply return a new object instead, e.g. `return gr.Button(...)` instead of `return gr.Button.update(...)`.\n",
            "  warnings.warn(\n"
          ]
        }
      ],
      "source": [
        "import gradio as gr\n",
        "import numpy as np\n",
        "from PIL import Image\n",
        "from joblib import load\n",
        "\n",
        "# Load the trained model\n",
        "model = load('knn.joblib')\n",
        "\n",
        "emotion_labels = {\n",
        "    0: \"Disgust\", \n",
        "    1: \"Surprise\", \n",
        "    2: \"Angry\",    \n",
        "    3: \"Fear\",    \n",
        "    4: \"Sad\",      \n",
        "    5: \"Neutral\", \n",
        "    6: \"Happy\"     \n",
        "}  \n",
        "\n",
        "\n",
        "def predict_emotion(image):\n",
        "    processed_image = Image.fromarray(image).convert('L').resize((48, 48))\n",
        "    processed_image = np.array(processed_image).flatten().reshape(1, -1) / 255.0\n",
        "    \n",
        "    prediction = model.predict(processed_image)[0]  \n",
        "    emotion = emotion_labels[prediction]  \n",
        "    return emotion\n",
        "\n",
        "iface = gr.Interface(\n",
        "    fn=predict_emotion,\n",
        "    inputs=gr.inputs.Image(shape=(48, 48), source=\"webcam\", tool=\"editor\"),  # The editor tool allows pasting an image\n",
        "    outputs=\"text\",\n",
        "    title=\"Emotion Detection\",\n",
        "    description=\"Upload an image and predict the emotion.\"\n",
        ")\n",
        "\n",
        "iface.launch()\n"
      ]
    }
  ],
  "metadata": {
    "colab": {
      "provenance": []
    },
    "kaggle": {
      "accelerator": "gpu",
      "dataSources": [
        {
          "datasetId": 745694,
          "sourceId": 1290907,
          "sourceType": "datasetVersion"
        }
      ],
      "dockerImageVersionId": 30176,
      "isGpuEnabled": true,
      "isInternetEnabled": false,
      "language": "python",
      "sourceType": "notebook"
    },
    "kernelspec": {
      "display_name": "Python 3",
      "language": "python",
      "name": "python3"
    },
    "language_info": {
      "codemirror_mode": {
        "name": "ipython",
        "version": 3
      },
      "file_extension": ".py",
      "mimetype": "text/x-python",
      "name": "python",
      "nbconvert_exporter": "python",
      "pygments_lexer": "ipython3",
      "version": "3.11.5"
    }
  },
  "nbformat": 4,
  "nbformat_minor": 0
}
