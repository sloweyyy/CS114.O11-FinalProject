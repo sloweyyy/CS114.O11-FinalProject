{
 "cells": [
  {
   "cell_type": "markdown",
   "metadata": {},
   "source": [
    "CONVERT ALL IMAGES FROM A FOLDER TO A MATRIX SIZE 28X28 AND PUT THEM INTO CSV FILE WITH THE LABEL"
   ]
  },
  {
   "cell_type": "markdown",
   "metadata": {},
   "source": []
  },
  {
   "cell_type": "code",
   "execution_count": 13,
   "metadata": {},
   "outputs": [],
   "source": [
    "import os\n",
    "import cv2\n",
    "import pandas as pd\n",
    "\n",
    "def convert_images_to_csv(folder_path, csv_filename, label=0, target_size=(48, 48)):\n",
    "    images = []\n",
    "    labels = []\n",
    "    \n",
    "    i = 0\n",
    "    for filename in os.listdir(folder_path):\n",
    "        path = os.path.join(folder_path, filename)\n",
    "        img = cv2.imread(path, cv2.IMREAD_GRAYSCALE)  # Read the image in grayscale mode\n",
    "        if img is not None:\n",
    "            img = cv2.resize(img, target_size)  # Resize image to a fixed size\n",
    "            images.append(img.flatten())\n",
    "            labels.append(label)\n",
    "        if i == 1000:\n",
    "            break\n",
    "        else:\n",
    "            i += 1\n",
    "\n",
    "    data = {'label': labels}\n",
    "    for i in range(len(images[0])):\n",
    "        data[f'pixel_{i+1}'] = [row[i] for row in images]\n",
    "\n",
    "    df = pd.DataFrame(data)\n",
    "    df.to_csv(csv_filename, index=False)\n",
    "    \n",
    "\n",
    "if __name__ == \"__main__\":\n",
    "\n",
    "    labels = {\n",
    "    \"angry\": 0,\n",
    "    \"fear\": 1,\n",
    "    \"happy\": 2,\n",
    "    \"neutral\": 3,\n",
    "    \"sad\": 4\n",
    "    }\n",
    "    #THAY LẦN LƯỢT TÊN FOLDER VÀ LABLE\n",
    "    folder_path = \"image/Sad\"\n",
    "    csv_filename = \"images/new_csv/sad1.csv\"\n",
    "    convert_images_to_csv(folder_path, csv_filename, label=labels[\"sad\"])  "
   ]
  },
  {
   "cell_type": "code",
   "execution_count": 3,
   "metadata": {},
   "outputs": [],
   "source": [
    "import os\n",
    "import cv2\n",
    "import pandas as pd\n",
    "\n",
    "def convert_images_to_csv(folder_path, csv_filename, label_mapping, target_size=(48, 48), max_images=None):\n",
    "    images = []\n",
    "    labels = []\n",
    "\n",
    "    label = label_mapping[os.path.basename(folder_path).lower()]\n",
    "\n",
    "    i = 0\n",
    "    for filename in os.listdir(folder_path):\n",
    "        path = os.path.join(folder_path, filename)\n",
    "        img = cv2.imread(path, cv2.IMREAD_GRAYSCALE)\n",
    "        if img is not None:\n",
    "            img = cv2.resize(img, target_size)\n",
    "            images.append(img.flatten())\n",
    "            labels.append(label)\n",
    "        if max_images is not None and i == max_images - 1:\n",
    "            break\n",
    "        else:\n",
    "            i += 1\n",
    "\n",
    "    data = {'label': labels}\n",
    "    for i in range(len(images[0])):\n",
    "        data[f'pixel_{i + 1}'] = [row[i] for row in images]\n",
    "\n",
    "    df = pd.DataFrame(data)\n",
    "    df.to_csv(csv_filename, index=False)\n",
    "\n",
    "\n",
    "if __name__ == \"__main__\":\n",
    "    labels_mapping = {\n",
    "        \"angry\": 0,\n",
    "        \"fear\": 1,\n",
    "        \"happy\": 2,\n",
    "        \"neutral\": 3,\n",
    "        \"sad\": 4\n",
    "    }\n",
    "\n",
    "    images_folder = \"images\"\n",
    "    output_folder = \"images\"\n",
    "\n",
    "    for label_name in labels_mapping.keys():\n",
    "        folder_path = os.path.join(images_folder, label_name.capitalize())\n",
    "        csv_filename = os.path.join(output_folder, f\"{label_name.lower()}.csv\")\n",
    "        convert_images_to_csv(folder_path, csv_filename, labels_mapping, max_images=1000)\n"
   ]
  },
  {
   "cell_type": "markdown",
   "metadata": {},
   "source": [
    "GATHER ALL CSV FILES INTO A FILE"
   ]
  },
  {
   "cell_type": "code",
   "execution_count": 4,
   "metadata": {},
   "outputs": [],
   "source": [
    "import pandas as pd\n",
    "import glob\n",
    "\n",
    "# Đường dẫn đến thư mục chứa các file CSV\n",
    "folder_path = 'images'\n",
    "\n",
    "# Đọc tất cả các file CSV trong thư mục\n",
    "all_files = glob.glob(folder_path + \"/*.csv\")\n",
    "\n",
    "# Tạo một list để chứa các DataFrame từ mỗi file CSV\n",
    "dfs = []\n",
    "\n",
    "# Đọc từng file và thêm vào list\n",
    "for file in all_files:\n",
    "    df = pd.read_csv(file)\n",
    "    dfs.append(df)\n",
    "\n",
    "# Gộp tất cả các DataFrame trong list thành một DataFrame duy nhất\n",
    "merged_df = pd.concat(dfs, ignore_index=True)\n",
    "\n",
    "# Ghi DataFrame kết quả vào một file CSV mới\n",
    "merged_df.to_csv('dataset.csv', index=False)\n"
   ]
  }
 ],
 "metadata": {
  "kernelspec": {
   "display_name": "Python 3",
   "language": "python",
   "name": "python3"
  },
  "language_info": {
   "codemirror_mode": {
    "name": "ipython",
    "version": 3
   },
   "file_extension": ".py",
   "mimetype": "text/x-python",
   "name": "python",
   "nbconvert_exporter": "python",
   "pygments_lexer": "ipython3",
   "version": "3.11.7"
  }
 },
 "nbformat": 4,
 "nbformat_minor": 2
}
