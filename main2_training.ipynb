{
 "cells": [
  {
   "cell_type": "code",
   "execution_count": 25,
   "metadata": {},
   "outputs": [],
   "source": [
    "import numpy as np\n",
    "from sklearn import svm\n",
    "from sklearn.neighbors import KNeighborsClassifier\n",
    "from sklearn.model_selection import train_test_split\n",
    "from sklearn.metrics import accuracy_score\n",
    "from skimage import io, color, transform\n",
    "\n",
    "import cv2\n",
    "import numpy as np\n",
    "import os\n",
    "import pandas as pd\n",
    "import re\n",
    "\n",
    "from PIL import Image\n",
    "from sklearn.preprocessing import MinMaxScaler"
   ]
  },
  {
   "cell_type": "markdown",
   "metadata": {},
   "source": [
    "# READ DATA"
   ]
  },
  {
   "cell_type": "code",
   "execution_count": 26,
   "metadata": {},
   "outputs": [],
   "source": [
    "#data_train = pd.read_csv(\"/Users/lethanhtien/Desktop/run/data/train.csv\")\n",
    "data = pd.read_csv(\"dataset.csv\")"
   ]
  },
  {
   "cell_type": "markdown",
   "metadata": {},
   "source": [
    "# CHECK CLASS IMBALANCE"
   ]
  },
  {
   "cell_type": "code",
   "execution_count": 27,
   "metadata": {},
   "outputs": [
    {
     "name": "stdout",
     "output_type": "stream",
     "text": [
      "label\n",
      "1    1000\n",
      "2    1000\n",
      "3    1000\n",
      "4    1000\n",
      "0     999\n",
      "Name: count, dtype: int64\n"
     ]
    }
   ],
   "source": [
    "class_counts = data['label'].value_counts()\n",
    "print(class_counts)"
   ]
  },
  {
   "cell_type": "code",
   "execution_count": 28,
   "metadata": {},
   "outputs": [
    {
     "data": {
      "text/plain": [
       "<Figure size 640x480 with 1 Axes>"
      ]
     },
     "metadata": {},
     "output_type": "display_data"
    }
   ],
   "source": [
    "import matplotlib.pyplot as plt\n",
    "\n",
    "# Vẽ biểu đồ cân bằng lớp\n",
    "class_counts.plot(kind='bar', title='Class Distribution')\n",
    "plt.show()\n"
   ]
  },
  {
   "cell_type": "code",
   "execution_count": 29,
   "metadata": {},
   "outputs": [
    {
     "name": "stdout",
     "output_type": "stream",
     "text": [
      "label\n",
      "1    0.20004\n",
      "2    0.20004\n",
      "3    0.20004\n",
      "4    0.20004\n",
      "0    0.19984\n",
      "Name: count, dtype: float64\n"
     ]
    }
   ],
   "source": [
    "total_samples = len(data)\n",
    "class_ratios = class_counts / total_samples\n",
    "print(class_ratios)\n"
   ]
  },
  {
   "cell_type": "markdown",
   "metadata": {},
   "source": [
    "# SPLIT DATA"
   ]
  },
  {
   "cell_type": "code",
   "execution_count": 30,
   "metadata": {},
   "outputs": [],
   "source": [
    "# x_train = data_train.drop(\"label\", axis=1)\n",
    "# y_train = data_train['label']\n",
    "\n",
    "# x_test = data_test.drop(\"label\", axis=1)\n",
    "# y_test = data_test['label']\n",
    "\n",
    "x = data.drop(\"label\", axis=1)\n",
    "y = data['label']"
   ]
  },
  {
   "cell_type": "code",
   "execution_count": 31,
   "metadata": {},
   "outputs": [],
   "source": [
    "X_train, X_test, y_train, y_test = train_test_split(x, y, test_size=0.2, random_state=42)\n",
    "\n",
    "X_train, X_test, y_train, y_test = X_train.values, X_test.values, y_train.values, y_test.values"
   ]
  },
  {
   "cell_type": "code",
   "execution_count": 32,
   "metadata": {},
   "outputs": [
    {
     "data": {
      "text/plain": [
       "array([ 28,  23,  24, ..., 166, 211, 218], dtype=int64)"
      ]
     },
     "execution_count": 32,
     "metadata": {},
     "output_type": "execute_result"
    }
   ],
   "source": [
    "X_train[0]"
   ]
  },
  {
   "cell_type": "markdown",
   "metadata": {},
   "source": [
    "# SCALE DATA"
   ]
  },
  {
   "cell_type": "code",
   "execution_count": 33,
   "metadata": {},
   "outputs": [],
   "source": [
    "from sklearn.preprocessing import MinMaxScaler"
   ]
  },
  {
   "cell_type": "code",
   "execution_count": 34,
   "metadata": {},
   "outputs": [],
   "source": [
    "# Khởi tạo mô hình MinMaxScaler và fit trên tập huấn luyện\n",
    "scaler = MinMaxScaler()\n",
    "X_train_scaled = scaler.fit_transform(X_train)\n",
    "\n",
    "# Sử dụng mô hình đã fit để chuẩn hóa tập kiểm tra\n",
    "X_test_scaled = scaler.transform(X_test)"
   ]
  },
  {
   "cell_type": "markdown",
   "metadata": {},
   "source": [
    "# TRAINING"
   ]
  },
  {
   "cell_type": "code",
   "execution_count": 36,
   "metadata": {},
   "outputs": [
    {
     "name": "stdout",
     "output_type": "stream",
     "text": [
      "Accuracy: 0.616\n"
     ]
    }
   ],
   "source": [
    "from sklearn.svm import SVC\n",
    "# Huấn luyện mô hình SVM với các tham số cụ thể\n",
    "svm_model = SVC(C=0.1, gamma=0.1, kernel='linear', probability=True)\n",
    "svm_model.fit(X_train_scaled, y_train)\n",
    "\n",
    "# Dự đoán nhãn trên tập kiểm tra\n",
    "y_pred = svm_model.predict(X_test_scaled)\n",
    "\n",
    "# Đánh giá độ chính xác của mô hình\n",
    "accuracy = accuracy_score(y_test, y_pred)\n",
    "print(f'Accuracy: {accuracy}')"
   ]
  },
  {
   "cell_type": "markdown",
   "metadata": {},
   "source": [
    "# EVALUATE"
   ]
  },
  {
   "cell_type": "code",
   "execution_count": 37,
   "metadata": {},
   "outputs": [
    {
     "name": "stdout",
     "output_type": "stream",
     "text": [
      "Accuracy: 0.616\n",
      "\n",
      "Class Angry:\n",
      "  Precision: 0.5337\n",
      "  Recall: 0.5236\n",
      "  F1-Score: 0.5286\n",
      "\n",
      "Class Fear:\n",
      "  Precision: 0.4947\n",
      "  Recall: 0.4677\n",
      "  F1-Score: 0.4808\n",
      "\n",
      "Class Happy:\n",
      "  Precision: 0.8376\n",
      "  Recall: 0.8128\n",
      "  F1-Score: 0.8250\n",
      "\n",
      "Class Neutral:\n",
      "  Precision: 0.7835\n",
      "  Recall: 0.8085\n",
      "  F1-Score: 0.7958\n",
      "\n",
      "Class Sad:\n",
      "  Precision: 0.4455\n",
      "  Recall: 0.4796\n",
      "  F1-Score: 0.4619\n",
      "\n"
     ]
    }
   ],
   "source": [
    "from sklearn.metrics import precision_score, recall_score, f1_score\n",
    "\n",
    "# Tính precision, recall, và f1-score cho từng lớp\n",
    "precision = precision_score(y_test, y_pred, average=None)\n",
    "recall = recall_score(y_test, y_pred, average=None)\n",
    "f1 = f1_score(y_test, y_pred, average=None)\n",
    "\n",
    "class_names = ['Angry', 'Fear', 'Happy', 'Neutral', 'Sad']\n",
    "\n",
    "# Đánh giá độ chính xác của mô hình\n",
    "accuracy = accuracy_score(y_test, y_pred)\n",
    "print(f'Accuracy: {accuracy}\\n')\n",
    "\n",
    "for i in range(len(class_names)):\n",
    "    print(f\"Class {class_names[i]}:\")\n",
    "    print(f\"  Precision: {precision[i]:.4f}\")\n",
    "    print(f\"  Recall: {recall[i]:.4f}\")\n",
    "    print(f\"  F1-Score: {f1[i]:.4f}\")\n",
    "    print()\n"
   ]
  },
  {
   "cell_type": "markdown",
   "metadata": {},
   "source": [
    "# TEST"
   ]
  },
  {
   "cell_type": "code",
   "execution_count": 39,
   "metadata": {},
   "outputs": [
    {
     "data": {
      "text/plain": [
       "array([0], dtype=int64)"
      ]
     },
     "execution_count": 39,
     "metadata": {},
     "output_type": "execute_result"
    }
   ],
   "source": [
    "def test(path):\n",
    "    # Đường dẫn của tấm ảnh\n",
    "    image_path = path\n",
    "\n",
    "    # Mở ảnh bằng Pillow\n",
    "    img = Image.open(image_path)\n",
    "\n",
    "    # Chuyển ảnh về ảnh trắng đen\n",
    "    img = img.convert(\"L\")\n",
    "\n",
    "    # Chuyển ảnh thành mảng NumPy\n",
    "    img_array = np.array(img)\n",
    "\n",
    "    # Resize ảnh về kích thước mong muốn\n",
    "    resized_img = cv2.resize(img_array, (48, 48))\n",
    "\n",
    "    flattened_img = resized_img.flatten().reshape(-1, 1)\n",
    "    # Use MinMaxScaler\n",
    "    scaler = MinMaxScaler()\n",
    "    img1 = scaler.fit_transform(flattened_img).T\n",
    "\n",
    "    y_pred = svm_model.predict(img1)\n",
    "\n",
    "    return y_pred\n",
    "\n",
    "test('images/angry/image0000390.jpg')"
   ]
  },
  {
   "cell_type": "markdown",
   "metadata": {},
   "source": [
    "# SAVE MODEL"
   ]
  },
  {
   "cell_type": "code",
   "execution_count": 40,
   "metadata": {},
   "outputs": [
    {
     "data": {
      "text/plain": [
       "['svm_model.joblib']"
      ]
     },
     "execution_count": 40,
     "metadata": {},
     "output_type": "execute_result"
    }
   ],
   "source": [
    "from joblib import dump\n",
    "dump(svm_model, 'svm_model.joblib')"
   ]
  },
  {
   "cell_type": "markdown",
   "metadata": {},
   "source": [
    "# TRAINING"
   ]
  },
  {
   "cell_type": "code",
   "execution_count": null,
   "metadata": {},
   "outputs": [
    {
     "name": "stdout",
     "output_type": "stream",
     "text": [
      "Best Parameters: {'C': 0.1, 'gamma': 0.1, 'kernel': 'linear'}\n",
      "Accuracy: 0.579\n"
     ]
    }
   ],
   "source": [
    "from sklearn.model_selection import GridSearchCV\n",
    "from sklearn.svm import SVC\n",
    "from sklearn.metrics import accuracy_score\n",
    "# Thiết lập các giá trị thử nghiệm cho C, kernel và gamma\n",
    "param_grid = {'C': [0.1, 1, 10],\n",
    "              'kernel': ['linear', 'rbf'],\n",
    "              'gamma': [0.1, 1, 10]}\n",
    "\n",
    "# Tạo mô hình SVM\n",
    "svm_model = SVC()\n",
    "\n",
    "# Sử dụng GridSearchCV để tìm kiếm qua lưới tham số\n",
    "grid_search = GridSearchCV(svm_model, param_grid, cv=5, scoring='accuracy')\n",
    "grid_search.fit(X_train, y_train)\n",
    "\n",
    "# In ra tham số tốt nhất\n",
    "print(\"Best Parameters:\", grid_search.best_params_)\n",
    "\n",
    "# Đánh giá mô hình trên tập kiểm tra\n",
    "y_pred = grid_search.predict(X_test)\n",
    "accuracy = accuracy_score(y_test, y_pred)\n",
    "print(f\"Accuracy: {accuracy}\")"
   ]
  },
  {
   "cell_type": "markdown",
   "metadata": {},
   "source": [
    "# GRADIO.APP INTERFACE\n"
   ]
  },
  {
   "cell_type": "code",
   "execution_count": null,
   "metadata": {},
   "outputs": [
    {
     "name": "stdout",
     "output_type": "stream",
     "text": [
      "Requirement already satisfied: gradio in c:\\users\\admin\\appdata\\local\\packages\\pythonsoftwarefoundation.python.3.11_qbz5n2kfra8p0\\localcache\\local-packages\\python311\\site-packages (4.12.0)Note: you may need to restart the kernel to use updated packages.\n"
     ]
    },
    {
     "name": "stderr",
     "output_type": "stream",
     "text": [
      "\n",
      "[notice] A new release of pip is available: 23.1.2 -> 23.3.2\n",
      "[notice] To update, run: C:\\Users\\Admin\\AppData\\Local\\Microsoft\\WindowsApps\\PythonSoftwareFoundation.Python.3.11_qbz5n2kfra8p0\\python.exe -m pip install --upgrade pip\n"
     ]
    },
    {
     "name": "stdout",
     "output_type": "stream",
     "text": [
      "\n",
      "Collecting gradio\n",
      "  Downloading gradio-4.13.0-py3-none-any.whl (16.6 MB)\n",
      "                                              0.0/16.6 MB ? eta -:--:--\n",
      "                                              0.0/16.6 MB ? eta -:--:--\n",
      "                                             0.0/16.6 MB 330.3 kB/s eta 0:00:51\n",
      "                                             0.0/16.6 MB 330.3 kB/s eta 0:00:51\n",
      "                                             0.1/16.6 MB 365.7 kB/s eta 0:00:46\n",
      "                                             0.1/16.6 MB 602.4 kB/s eta 0:00:28\n",
      "                                              0.3/16.6 MB 1.4 MB/s eta 0:00:12\n",
      "     -                                        0.4/16.6 MB 1.7 MB/s eta 0:00:10\n",
      "     --                                       0.9/16.6 MB 2.9 MB/s eta 0:00:06\n",
      "     ---                                      1.3/16.6 MB 3.9 MB/s eta 0:00:04\n",
      "     ----                                     1.8/16.6 MB 5.1 MB/s eta 0:00:03\n",
      "     -----                                    2.3/16.6 MB 5.7 MB/s eta 0:00:03\n",
      "     ------                                   2.8/16.6 MB 6.6 MB/s eta 0:00:03\n",
      "     --------                                 3.4/16.6 MB 7.3 MB/s eta 0:00:02\n",
      "     ---------                                4.0/16.6 MB 7.7 MB/s eta 0:00:02\n",
      "     -----------                              4.6/16.6 MB 8.4 MB/s eta 0:00:02\n",
      "     -----------                              4.9/16.6 MB 8.5 MB/s eta 0:00:02\n",
      "     -------------                            5.6/16.6 MB 9.2 MB/s eta 0:00:02\n",
      "     ---------------                          6.3/16.6 MB 9.7 MB/s eta 0:00:02\n",
      "     ----------------                         6.7/16.6 MB 9.7 MB/s eta 0:00:02\n",
      "     ----------------                         7.0/16.6 MB 9.7 MB/s eta 0:00:01\n",
      "     -----------------                        7.3/16.6 MB 9.8 MB/s eta 0:00:01\n",
      "     ------------------                       7.5/16.6 MB 9.6 MB/s eta 0:00:01\n",
      "     ------------------                       7.5/16.6 MB 9.6 MB/s eta 0:00:01\n",
      "     ------------------                       7.7/16.6 MB 9.0 MB/s eta 0:00:01\n",
      "     ------------------                       7.9/16.6 MB 8.7 MB/s eta 0:00:02\n",
      "     -------------------                      8.2/16.6 MB 8.6 MB/s eta 0:00:01\n",
      "     --------------------                     8.6/16.6 MB 9.0 MB/s eta 0:00:01\n",
      "     ---------------------                    9.0/16.6 MB 8.9 MB/s eta 0:00:01\n",
      "     ----------------------                   9.3/16.6 MB 8.9 MB/s eta 0:00:01\n",
      "     ------------------------                 10.1/16.6 MB 9.2 MB/s eta 0:00:01\n",
      "     ------------------------                10.3/16.6 MB 10.7 MB/s eta 0:00:01\n",
      "     ------------------------                10.3/16.6 MB 10.7 MB/s eta 0:00:01\n",
      "     -------------------------               10.9/16.6 MB 10.9 MB/s eta 0:00:01\n",
      "     --------------------------              11.3/16.6 MB 10.9 MB/s eta 0:00:01\n",
      "     ---------------------------             11.8/16.6 MB 11.1 MB/s eta 0:00:01\n",
      "     ---------------------------             11.8/16.6 MB 10.9 MB/s eta 0:00:01\n",
      "     ---------------------------             11.8/16.6 MB 10.9 MB/s eta 0:00:01\n",
      "     ---------------------------             11.8/16.6 MB 10.9 MB/s eta 0:00:01\n",
      "     -----------------------------           12.6/16.6 MB 10.1 MB/s eta 0:00:01\n",
      "     -----------------------------           12.6/16.6 MB 10.1 MB/s eta 0:00:01\n",
      "     ------------------------------           12.7/16.6 MB 9.8 MB/s eta 0:00:01\n",
      "     ------------------------------           12.7/16.6 MB 9.8 MB/s eta 0:00:01\n",
      "     ------------------------------           12.7/16.6 MB 9.8 MB/s eta 0:00:01\n",
      "     ------------------------------           12.7/16.6 MB 9.8 MB/s eta 0:00:01\n",
      "     -------------------------------          13.0/16.6 MB 8.4 MB/s eta 0:00:01\n",
      "     -------------------------------          13.0/16.6 MB 8.4 MB/s eta 0:00:01\n",
      "     -------------------------------          13.0/16.6 MB 8.4 MB/s eta 0:00:01\n",
      "     -------------------------------          13.3/16.6 MB 8.0 MB/s eta 0:00:01\n",
      "     -------------------------------          13.3/16.6 MB 8.0 MB/s eta 0:00:01\n",
      "     -------------------------------          13.3/16.6 MB 8.0 MB/s eta 0:00:01\n",
      "     -------------------------------          13.3/16.6 MB 8.0 MB/s eta 0:00:01\n",
      "     -------------------------------          13.3/16.6 MB 8.0 MB/s eta 0:00:01\n",
      "     -------------------------------          13.3/16.6 MB 8.0 MB/s eta 0:00:01\n",
      "     -------------------------------          13.3/16.6 MB 8.0 MB/s eta 0:00:01\n",
      "     ---------------------------------        13.8/16.6 MB 6.7 MB/s eta 0:00:01\n",
      "     ---------------------------------        14.0/16.6 MB 6.7 MB/s eta 0:00:01\n",
      "     ---------------------------------        14.0/16.6 MB 6.7 MB/s eta 0:00:01\n",
      "     ---------------------------------        14.0/16.6 MB 6.7 MB/s eta 0:00:01\n",
      "     ---------------------------------        14.0/16.6 MB 6.7 MB/s eta 0:00:01\n",
      "     ---------------------------------        14.0/16.6 MB 6.7 MB/s eta 0:00:01\n",
      "     ---------------------------------        14.0/16.6 MB 6.7 MB/s eta 0:00:01\n",
      "     -----------------------------------      14.5/16.6 MB 6.0 MB/s eta 0:00:01\n",
      "     -----------------------------------      14.7/16.6 MB 6.0 MB/s eta 0:00:01\n",
      "     -----------------------------------      14.7/16.6 MB 6.0 MB/s eta 0:00:01\n",
      "     -----------------------------------      14.7/16.6 MB 6.0 MB/s eta 0:00:01\n",
      "     -----------------------------------      14.7/16.6 MB 6.0 MB/s eta 0:00:01\n",
      "     ------------------------------------     15.0/16.6 MB 5.5 MB/s eta 0:00:01\n",
      "     ------------------------------------     15.0/16.6 MB 5.5 MB/s eta 0:00:01\n",
      "     ------------------------------------     15.2/16.6 MB 5.4 MB/s eta 0:00:01\n",
      "     -------------------------------------    15.7/16.6 MB 5.3 MB/s eta 0:00:01\n",
      "     -------------------------------------    15.7/16.6 MB 5.3 MB/s eta 0:00:01\n",
      "     -------------------------------------    15.7/16.6 MB 5.3 MB/s eta 0:00:01\n",
      "     --------------------------------------   15.9/16.6 MB 5.0 MB/s eta 0:00:01\n",
      "     ---------------------------------------  16.3/16.6 MB 5.1 MB/s eta 0:00:01\n",
      "     ---------------------------------------  16.6/16.6 MB 5.0 MB/s eta 0:00:01\n",
      "     ---------------------------------------  16.6/16.6 MB 5.0 MB/s eta 0:00:01\n",
      "     ---------------------------------------- 16.6/16.6 MB 4.8 MB/s eta 0:00:00\n",
      "Requirement already satisfied: aiofiles<24.0,>=22.0 in c:\\users\\admin\\appdata\\local\\packages\\pythonsoftwarefoundation.python.3.11_qbz5n2kfra8p0\\localcache\\local-packages\\python311\\site-packages (from gradio) (23.2.1)\n",
      "Requirement already satisfied: altair<6.0,>=4.2.0 in c:\\users\\admin\\appdata\\local\\packages\\pythonsoftwarefoundation.python.3.11_qbz5n2kfra8p0\\localcache\\local-packages\\python311\\site-packages (from gradio) (5.2.0)\n",
      "Requirement already satisfied: fastapi in c:\\users\\admin\\appdata\\local\\packages\\pythonsoftwarefoundation.python.3.11_qbz5n2kfra8p0\\localcache\\local-packages\\python311\\site-packages (from gradio) (0.105.0)\n",
      "Requirement already satisfied: ffmpy in c:\\users\\admin\\appdata\\local\\packages\\pythonsoftwarefoundation.python.3.11_qbz5n2kfra8p0\\localcache\\local-packages\\python311\\site-packages (from gradio) (0.3.1)\n",
      "Requirement already satisfied: gradio-client==0.8.0 in c:\\users\\admin\\appdata\\local\\packages\\pythonsoftwarefoundation.python.3.11_qbz5n2kfra8p0\\localcache\\local-packages\\python311\\site-packages (from gradio) (0.8.0)\n",
      "Requirement already satisfied: httpx in c:\\users\\admin\\appdata\\local\\packages\\pythonsoftwarefoundation.python.3.11_qbz5n2kfra8p0\\localcache\\local-packages\\python311\\site-packages (from gradio) (0.25.0)\n",
      "Requirement already satisfied: huggingface-hub>=0.19.3 in c:\\users\\admin\\appdata\\local\\packages\\pythonsoftwarefoundation.python.3.11_qbz5n2kfra8p0\\localcache\\local-packages\\python311\\site-packages (from gradio) (0.20.1)\n",
      "Requirement already satisfied: importlib-resources<7.0,>=1.3 in c:\\users\\admin\\appdata\\local\\packages\\pythonsoftwarefoundation.python.3.11_qbz5n2kfra8p0\\localcache\\local-packages\\python311\\site-packages (from gradio) (6.1.1)\n",
      "Requirement already satisfied: jinja2<4.0 in c:\\users\\admin\\appdata\\local\\packages\\pythonsoftwarefoundation.python.3.11_qbz5n2kfra8p0\\localcache\\local-packages\\python311\\site-packages (from gradio) (3.1.2)\n",
      "Requirement already satisfied: markupsafe~=2.0 in c:\\users\\admin\\appdata\\local\\packages\\pythonsoftwarefoundation.python.3.11_qbz5n2kfra8p0\\localcache\\local-packages\\python311\\site-packages (from gradio) (2.1.3)\n",
      "Requirement already satisfied: matplotlib~=3.0 in c:\\users\\admin\\appdata\\local\\packages\\pythonsoftwarefoundation.python.3.11_qbz5n2kfra8p0\\localcache\\local-packages\\python311\\site-packages (from gradio) (3.7.2)\n",
      "Requirement already satisfied: numpy~=1.0 in c:\\users\\admin\\appdata\\local\\packages\\pythonsoftwarefoundation.python.3.11_qbz5n2kfra8p0\\localcache\\local-packages\\python311\\site-packages (from gradio) (1.25.2)\n",
      "Requirement already satisfied: orjson~=3.0 in c:\\users\\admin\\appdata\\local\\packages\\pythonsoftwarefoundation.python.3.11_qbz5n2kfra8p0\\localcache\\local-packages\\python311\\site-packages (from gradio) (3.9.10)\n",
      "Requirement already satisfied: packaging in c:\\users\\admin\\appdata\\local\\packages\\pythonsoftwarefoundation.python.3.11_qbz5n2kfra8p0\\localcache\\local-packages\\python311\\site-packages (from gradio) (23.1)\n",
      "Requirement already satisfied: pandas<3.0,>=1.0 in c:\\users\\admin\\appdata\\local\\packages\\pythonsoftwarefoundation.python.3.11_qbz5n2kfra8p0\\localcache\\local-packages\\python311\\site-packages (from gradio) (2.1.4)\n",
      "Requirement already satisfied: pillow<11.0,>=8.0 in c:\\users\\admin\\appdata\\local\\packages\\pythonsoftwarefoundation.python.3.11_qbz5n2kfra8p0\\localcache\\local-packages\\python311\\site-packages (from gradio) (10.1.0)\n",
      "Requirement already satisfied: pydantic>=2.0 in c:\\users\\admin\\appdata\\local\\packages\\pythonsoftwarefoundation.python.3.11_qbz5n2kfra8p0\\localcache\\local-packages\\python311\\site-packages (from gradio) (2.5.2)\n",
      "Requirement already satisfied: pydub in c:\\users\\admin\\appdata\\local\\packages\\pythonsoftwarefoundation.python.3.11_qbz5n2kfra8p0\\localcache\\local-packages\\python311\\site-packages (from gradio) (0.25.1)\n",
      "Requirement already satisfied: python-multipart in c:\\users\\admin\\appdata\\local\\packages\\pythonsoftwarefoundation.python.3.11_qbz5n2kfra8p0\\localcache\\local-packages\\python311\\site-packages (from gradio) (0.0.6)\n",
      "Requirement already satisfied: pyyaml<7.0,>=5.0 in c:\\users\\admin\\appdata\\local\\packages\\pythonsoftwarefoundation.python.3.11_qbz5n2kfra8p0\\localcache\\local-packages\\python311\\site-packages (from gradio) (6.0.1)\n",
      "Requirement already satisfied: semantic-version~=2.0 in c:\\users\\admin\\appdata\\local\\packages\\pythonsoftwarefoundation.python.3.11_qbz5n2kfra8p0\\localcache\\local-packages\\python311\\site-packages (from gradio) (2.10.0)\n",
      "Requirement already satisfied: tomlkit==0.12.0 in c:\\users\\admin\\appdata\\local\\packages\\pythonsoftwarefoundation.python.3.11_qbz5n2kfra8p0\\localcache\\local-packages\\python311\\site-packages (from gradio) (0.12.0)\n",
      "Requirement already satisfied: typer[all]<1.0,>=0.9 in c:\\users\\admin\\appdata\\local\\packages\\pythonsoftwarefoundation.python.3.11_qbz5n2kfra8p0\\localcache\\local-packages\\python311\\site-packages (from gradio) (0.9.0)\n",
      "Requirement already satisfied: typing-extensions~=4.0 in c:\\users\\admin\\appdata\\local\\packages\\pythonsoftwarefoundation.python.3.11_qbz5n2kfra8p0\\localcache\\local-packages\\python311\\site-packages (from gradio) (4.9.0)\n",
      "Requirement already satisfied: uvicorn>=0.14.0 in c:\\users\\admin\\appdata\\local\\packages\\pythonsoftwarefoundation.python.3.11_qbz5n2kfra8p0\\localcache\\local-packages\\python311\\site-packages (from gradio) (0.25.0)\n",
      "Requirement already satisfied: fsspec in c:\\users\\admin\\appdata\\local\\packages\\pythonsoftwarefoundation.python.3.11_qbz5n2kfra8p0\\localcache\\local-packages\\python311\\site-packages (from gradio-client==0.8.0->gradio) (2023.12.2)\n",
      "Requirement already satisfied: websockets<12.0,>=10.0 in c:\\users\\admin\\appdata\\local\\packages\\pythonsoftwarefoundation.python.3.11_qbz5n2kfra8p0\\localcache\\local-packages\\python311\\site-packages (from gradio-client==0.8.0->gradio) (11.0.3)\n",
      "Requirement already satisfied: jsonschema>=3.0 in c:\\users\\admin\\appdata\\local\\packages\\pythonsoftwarefoundation.python.3.11_qbz5n2kfra8p0\\localcache\\local-packages\\python311\\site-packages (from altair<6.0,>=4.2.0->gradio) (4.20.0)\n",
      "Requirement already satisfied: toolz in c:\\users\\admin\\appdata\\local\\packages\\pythonsoftwarefoundation.python.3.11_qbz5n2kfra8p0\\localcache\\local-packages\\python311\\site-packages (from altair<6.0,>=4.2.0->gradio) (0.12.0)\n",
      "Requirement already satisfied: filelock in c:\\users\\admin\\appdata\\local\\packages\\pythonsoftwarefoundation.python.3.11_qbz5n2kfra8p0\\localcache\\local-packages\\python311\\site-packages (from huggingface-hub>=0.19.3->gradio) (3.12.2)\n",
      "Requirement already satisfied: requests in c:\\users\\admin\\appdata\\local\\packages\\pythonsoftwarefoundation.python.3.11_qbz5n2kfra8p0\\localcache\\local-packages\\python311\\site-packages (from huggingface-hub>=0.19.3->gradio) (2.31.0)\n",
      "Requirement already satisfied: tqdm>=4.42.1 in c:\\users\\admin\\appdata\\local\\packages\\pythonsoftwarefoundation.python.3.11_qbz5n2kfra8p0\\localcache\\local-packages\\python311\\site-packages (from huggingface-hub>=0.19.3->gradio) (4.66.1)\n",
      "Requirement already satisfied: contourpy>=1.0.1 in c:\\users\\admin\\appdata\\local\\packages\\pythonsoftwarefoundation.python.3.11_qbz5n2kfra8p0\\localcache\\local-packages\\python311\\site-packages (from matplotlib~=3.0->gradio) (1.1.0)\n",
      "Requirement already satisfied: cycler>=0.10 in c:\\users\\admin\\appdata\\local\\packages\\pythonsoftwarefoundation.python.3.11_qbz5n2kfra8p0\\localcache\\local-packages\\python311\\site-packages (from matplotlib~=3.0->gradio) (0.11.0)\n",
      "Requirement already satisfied: fonttools>=4.22.0 in c:\\users\\admin\\appdata\\local\\packages\\pythonsoftwarefoundation.python.3.11_qbz5n2kfra8p0\\localcache\\local-packages\\python311\\site-packages (from matplotlib~=3.0->gradio) (4.42.0)\n",
      "Requirement already satisfied: kiwisolver>=1.0.1 in c:\\users\\admin\\appdata\\local\\packages\\pythonsoftwarefoundation.python.3.11_qbz5n2kfra8p0\\localcache\\local-packages\\python311\\site-packages (from matplotlib~=3.0->gradio) (1.4.4)\n",
      "Requirement already satisfied: pyparsing<3.1,>=2.3.1 in c:\\users\\admin\\appdata\\local\\packages\\pythonsoftwarefoundation.python.3.11_qbz5n2kfra8p0\\localcache\\local-packages\\python311\\site-packages (from matplotlib~=3.0->gradio) (3.0.9)\n",
      "Requirement already satisfied: python-dateutil>=2.7 in c:\\users\\admin\\appdata\\local\\packages\\pythonsoftwarefoundation.python.3.11_qbz5n2kfra8p0\\localcache\\local-packages\\python311\\site-packages (from matplotlib~=3.0->gradio) (2.8.2)\n",
      "Requirement already satisfied: pytz>=2020.1 in c:\\users\\admin\\appdata\\local\\packages\\pythonsoftwarefoundation.python.3.11_qbz5n2kfra8p0\\localcache\\local-packages\\python311\\site-packages (from pandas<3.0,>=1.0->gradio) (2023.3.post1)\n",
      "Requirement already satisfied: tzdata>=2022.1 in c:\\users\\admin\\appdata\\local\\packages\\pythonsoftwarefoundation.python.3.11_qbz5n2kfra8p0\\localcache\\local-packages\\python311\\site-packages (from pandas<3.0,>=1.0->gradio) (2023.3)\n",
      "Requirement already satisfied: annotated-types>=0.4.0 in c:\\users\\admin\\appdata\\local\\packages\\pythonsoftwarefoundation.python.3.11_qbz5n2kfra8p0\\localcache\\local-packages\\python311\\site-packages (from pydantic>=2.0->gradio) (0.6.0)\n",
      "Requirement already satisfied: pydantic-core==2.14.5 in c:\\users\\admin\\appdata\\local\\packages\\pythonsoftwarefoundation.python.3.11_qbz5n2kfra8p0\\localcache\\local-packages\\python311\\site-packages (from pydantic>=2.0->gradio) (2.14.5)\n",
      "Requirement already satisfied: click<9.0.0,>=7.1.1 in c:\\users\\admin\\appdata\\local\\packages\\pythonsoftwarefoundation.python.3.11_qbz5n2kfra8p0\\localcache\\local-packages\\python311\\site-packages (from typer[all]<1.0,>=0.9->gradio) (8.1.7)\n",
      "Requirement already satisfied: colorama<0.5.0,>=0.4.3 in c:\\users\\admin\\appdata\\local\\packages\\pythonsoftwarefoundation.python.3.11_qbz5n2kfra8p0\\localcache\\local-packages\\python311\\site-packages (from typer[all]<1.0,>=0.9->gradio) (0.4.6)\n",
      "Requirement already satisfied: shellingham<2.0.0,>=1.3.0 in c:\\users\\admin\\appdata\\local\\packages\\pythonsoftwarefoundation.python.3.11_qbz5n2kfra8p0\\localcache\\local-packages\\python311\\site-packages (from typer[all]<1.0,>=0.9->gradio) (1.5.4)\n",
      "Requirement already satisfied: rich<14.0.0,>=10.11.0 in c:\\users\\admin\\appdata\\local\\packages\\pythonsoftwarefoundation.python.3.11_qbz5n2kfra8p0\\localcache\\local-packages\\python311\\site-packages (from typer[all]<1.0,>=0.9->gradio) (13.7.0)\n",
      "Requirement already satisfied: h11>=0.8 in c:\\users\\admin\\appdata\\local\\packages\\pythonsoftwarefoundation.python.3.11_qbz5n2kfra8p0\\localcache\\local-packages\\python311\\site-packages (from uvicorn>=0.14.0->gradio) (0.14.0)\n",
      "Requirement already satisfied: anyio<4.0.0,>=3.7.1 in c:\\users\\admin\\appdata\\local\\packages\\pythonsoftwarefoundation.python.3.11_qbz5n2kfra8p0\\localcache\\local-packages\\python311\\site-packages (from fastapi->gradio) (3.7.1)\n",
      "Requirement already satisfied: starlette<0.28.0,>=0.27.0 in c:\\users\\admin\\appdata\\local\\packages\\pythonsoftwarefoundation.python.3.11_qbz5n2kfra8p0\\localcache\\local-packages\\python311\\site-packages (from fastapi->gradio) (0.27.0)\n",
      "Requirement already satisfied: certifi in c:\\users\\admin\\appdata\\local\\packages\\pythonsoftwarefoundation.python.3.11_qbz5n2kfra8p0\\localcache\\local-packages\\python311\\site-packages (from httpx->gradio) (2023.5.7)\n",
      "Requirement already satisfied: httpcore<0.19.0,>=0.18.0 in c:\\users\\admin\\appdata\\local\\packages\\pythonsoftwarefoundation.python.3.11_qbz5n2kfra8p0\\localcache\\local-packages\\python311\\site-packages (from httpx->gradio) (0.18.0)\n",
      "Requirement already satisfied: idna in c:\\users\\admin\\appdata\\local\\packages\\pythonsoftwarefoundation.python.3.11_qbz5n2kfra8p0\\localcache\\local-packages\\python311\\site-packages (from httpx->gradio) (3.4)\n",
      "Requirement already satisfied: sniffio in c:\\users\\admin\\appdata\\local\\packages\\pythonsoftwarefoundation.python.3.11_qbz5n2kfra8p0\\localcache\\local-packages\\python311\\site-packages (from httpx->gradio) (1.3.0)\n",
      "Requirement already satisfied: attrs>=22.2.0 in c:\\users\\admin\\appdata\\local\\packages\\pythonsoftwarefoundation.python.3.11_qbz5n2kfra8p0\\localcache\\local-packages\\python311\\site-packages (from jsonschema>=3.0->altair<6.0,>=4.2.0->gradio) (23.1.0)\n",
      "Requirement already satisfied: jsonschema-specifications>=2023.03.6 in c:\\users\\admin\\appdata\\local\\packages\\pythonsoftwarefoundation.python.3.11_qbz5n2kfra8p0\\localcache\\local-packages\\python311\\site-packages (from jsonschema>=3.0->altair<6.0,>=4.2.0->gradio) (2023.11.2)\n",
      "Requirement already satisfied: referencing>=0.28.4 in c:\\users\\admin\\appdata\\local\\packages\\pythonsoftwarefoundation.python.3.11_qbz5n2kfra8p0\\localcache\\local-packages\\python311\\site-packages (from jsonschema>=3.0->altair<6.0,>=4.2.0->gradio) (0.32.0)\n",
      "Requirement already satisfied: rpds-py>=0.7.1 in c:\\users\\admin\\appdata\\local\\packages\\pythonsoftwarefoundation.python.3.11_qbz5n2kfra8p0\\localcache\\local-packages\\python311\\site-packages (from jsonschema>=3.0->altair<6.0,>=4.2.0->gradio) (0.13.2)\n",
      "Requirement already satisfied: six>=1.5 in c:\\users\\admin\\appdata\\local\\packages\\pythonsoftwarefoundation.python.3.11_qbz5n2kfra8p0\\localcache\\local-packages\\python311\\site-packages (from python-dateutil>=2.7->matplotlib~=3.0->gradio) (1.16.0)\n",
      "Requirement already satisfied: markdown-it-py>=2.2.0 in c:\\users\\admin\\appdata\\local\\packages\\pythonsoftwarefoundation.python.3.11_qbz5n2kfra8p0\\localcache\\local-packages\\python311\\site-packages (from rich<14.0.0,>=10.11.0->typer[all]<1.0,>=0.9->gradio) (3.0.0)\n",
      "Requirement already satisfied: pygments<3.0.0,>=2.13.0 in c:\\users\\admin\\appdata\\local\\packages\\pythonsoftwarefoundation.python.3.11_qbz5n2kfra8p0\\localcache\\local-packages\\python311\\site-packages (from rich<14.0.0,>=10.11.0->typer[all]<1.0,>=0.9->gradio) (2.16.1)\n",
      "Requirement already satisfied: charset-normalizer<4,>=2 in c:\\users\\admin\\appdata\\local\\packages\\pythonsoftwarefoundation.python.3.11_qbz5n2kfra8p0\\localcache\\local-packages\\python311\\site-packages (from requests->huggingface-hub>=0.19.3->gradio) (3.1.0)\n",
      "Requirement already satisfied: urllib3<3,>=1.21.1 in c:\\users\\admin\\appdata\\local\\packages\\pythonsoftwarefoundation.python.3.11_qbz5n2kfra8p0\\localcache\\local-packages\\python311\\site-packages (from requests->huggingface-hub>=0.19.3->gradio) (2.0.3)\n",
      "Requirement already satisfied: mdurl~=0.1 in c:\\users\\admin\\appdata\\local\\packages\\pythonsoftwarefoundation.python.3.11_qbz5n2kfra8p0\\localcache\\local-packages\\python311\\site-packages (from markdown-it-py>=2.2.0->rich<14.0.0,>=10.11.0->typer[all]<1.0,>=0.9->gradio) (0.1.2)\n",
      "Installing collected packages: gradio\n",
      "  Attempting uninstall: gradio\n",
      "    Found existing installation: gradio 4.12.0\n",
      "    Uninstalling gradio-4.12.0:\n",
      "      Successfully uninstalled gradio-4.12.0\n",
      "Successfully installed gradio-4.13.0\n"
     ]
    }
   ],
   "source": [
    "%pip install --upgrade gradio"
   ]
  },
  {
   "cell_type": "code",
   "execution_count": 41,
   "metadata": {},
   "outputs": [
    {
     "name": "stdout",
     "output_type": "stream",
     "text": [
      "Running on local URL:  http://127.0.0.1:7863\n",
      "\n",
      "To create a public link, set `share=True` in `launch()`.\n"
     ]
    },
    {
     "data": {
      "text/html": [
       "<div><iframe src=\"http://127.0.0.1:7863/\" width=\"100%\" height=\"500\" allow=\"autoplay; camera; microphone; clipboard-read; clipboard-write;\" frameborder=\"0\" allowfullscreen></iframe></div>"
      ],
      "text/plain": [
       "<IPython.core.display.HTML object>"
      ]
     },
     "metadata": {},
     "output_type": "display_data"
    },
    {
     "data": {
      "text/plain": []
     },
     "execution_count": 41,
     "metadata": {},
     "output_type": "execute_result"
    },
    {
     "name": "stdout",
     "output_type": "stream",
     "text": [
      "Input image shape: (704, 800, 3)\n",
      "Processed image shape: (48, 48)\n"
     ]
    }
   ],
   "source": [
    "import gradio as gr\n",
    "import numpy as np\n",
    "from PIL import Image\n",
    "from joblib import load\n",
    "import dlib\n",
    "\n",
    "svm_model = load('svm_model.h5')\n",
    "\n",
    "emotion_labels = {\n",
    "    0: \"Angry\",\n",
    "    1: \"Fear\",\n",
    "    2: \"Happy\",\n",
    "    3: \"Neutral\",\n",
    "    4: \"Sad\",\n",
    "}\n",
    "\n",
    "# Load dlib's pre-trained face detector\n",
    "detector = dlib.get_frontal_face_detector()\n",
    "\n",
    "def predict_emotion(image):\n",
    "    # Convert Gradio Image to NumPy array\n",
    "    img_array = np.array(image)\n",
    "\n",
    "    # Convert to grayscale\n",
    "    processed_image = Image.fromarray(img_array).convert('L').resize((48, 48))\n",
    "\n",
    "    # Convert to NumPy array\n",
    "    processed_image_array = np.array(processed_image)\n",
    "\n",
    "    # Flatten and reshape\n",
    "    flattened_img = processed_image_array.flatten().reshape(1, -1) / 255.0\n",
    "\n",
    "    # Make prediction using SVM model\n",
    "    prediction = svm_model.predict(flattened_img)[0]\n",
    "\n",
    "    # Detect faces using dlib\n",
    "    faces = detector(img_array, 1)\n",
    "    \n",
    "    if len(faces) == 0:\n",
    "        cropped_face = img_array\n",
    "    else:\n",
    "        # Assuming there's only one face detected, you can modify this if needed\n",
    "        x, y, w, h = faces[0].left(), faces[0].top(), faces[0].width(), faces[0].height()\n",
    "        cropped_face = img_array[y:y+h, x:x+w]\n",
    "\n",
    "    print(\"Input image shape:\", img_array.shape)\n",
    "    print(\"Processed image shape:\", processed_image_array.shape)\n",
    "\n",
    "    return emotion_labels[prediction], cropped_face\n",
    "\n",
    "\n",
    "iface = gr.Interface(\n",
    "    fn=predict_emotion,\n",
    "    inputs=\"image\",\n",
    "    outputs=[\"text\", \"image\"],  # Specify both text and image outputs\n",
    "    live = True,\n",
    "    title=\"Emotion Detection\",\n",
    "    description=\"Upload an image and predict the emotion.\"\n",
    ")\n",
    "\n",
    "iface.launch()\n"
   ]
  }
 ],
 "metadata": {
  "kernelspec": {
   "display_name": "Python 3",
   "language": "python",
   "name": "python3"
  },
  "language_info": {
   "codemirror_mode": {
    "name": "ipython",
    "version": 3
   },
   "file_extension": ".py",
   "mimetype": "text/x-python",
   "name": "python",
   "nbconvert_exporter": "python",
   "pygments_lexer": "ipython3",
   "version": "3.11.7"
  }
 },
 "nbformat": 4,
 "nbformat_minor": 2
}
