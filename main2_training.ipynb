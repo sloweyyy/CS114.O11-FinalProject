{
 "cells": [
  {
   "cell_type": "code",
   "execution_count": 8,
   "metadata": {},
   "outputs": [],
   "source": [
    "import numpy as np\n",
    "from sklearn import svm\n",
    "from sklearn.neighbors import KNeighborsClassifier\n",
    "from sklearn.model_selection import train_test_split\n",
    "from sklearn.metrics import accuracy_score\n",
    "from skimage import io, color, transform\n",
    "\n",
    "import cv2\n",
    "import numpy as np\n",
    "import os\n",
    "import pandas as pd\n",
    "import re\n",
    "\n",
    "from PIL import Image\n",
    "from sklearn.preprocessing import MinMaxScaler"
   ]
  },
  {
   "cell_type": "markdown",
   "metadata": {},
   "source": [
    "# READ DATA"
   ]
  },
  {
   "cell_type": "code",
   "execution_count": 9,
   "metadata": {},
   "outputs": [],
   "source": [
    "#data_train = pd.read_csv(\"/Users/lethanhtien/Desktop/run/data/train.csv\")\n",
    "data = pd.read_csv(\"dataset.csv\")"
   ]
  },
  {
   "cell_type": "markdown",
   "metadata": {},
   "source": [
    "# CHECK CLASS IMBALANCE"
   ]
  },
  {
   "cell_type": "code",
   "execution_count": 10,
   "metadata": {},
   "outputs": [
    {
     "name": "stdout",
     "output_type": "stream",
     "text": [
      "label\n",
      "1    1000\n",
      "2    1000\n",
      "3    1000\n",
      "4    1000\n",
      "0     999\n",
      "Name: count, dtype: int64\n"
     ]
    }
   ],
   "source": [
    "class_counts = data['label'].value_counts()\n",
    "print(class_counts)"
   ]
  },
  {
   "cell_type": "code",
   "execution_count": 13,
   "metadata": {},
   "outputs": [
    {
     "data": {
      "text/plain": [
       "<Figure size 640x480 with 1 Axes>"
      ]
     },
     "metadata": {},
     "output_type": "display_data"
    }
   ],
   "source": [
    "import matplotlib.pyplot as plt\n",
    "\n",
    "# Vẽ biểu đồ cân bằng lớp\n",
    "class_counts.plot(kind='bar', title='Class Distribution')\n",
    "plt.show()\n"
   ]
  },
  {
   "cell_type": "code",
   "execution_count": 12,
   "metadata": {},
   "outputs": [
    {
     "name": "stdout",
     "output_type": "stream",
     "text": [
      "label\n",
      "1    0.20004\n",
      "2    0.20004\n",
      "3    0.20004\n",
      "4    0.20004\n",
      "0    0.19984\n",
      "Name: count, dtype: float64\n"
     ]
    }
   ],
   "source": [
    "total_samples = len(data)\n",
    "class_ratios = class_counts / total_samples\n",
    "print(class_ratios)\n"
   ]
  },
  {
   "cell_type": "markdown",
   "metadata": {},
   "source": [
    "# SPLIT DATA"
   ]
  },
  {
   "cell_type": "code",
   "execution_count": 14,
   "metadata": {},
   "outputs": [],
   "source": [
    "\n",
    "\n",
    "x = data.drop(\"label\", axis=1)\n",
    "y = data['label']"
   ]
  },
  {
   "cell_type": "code",
   "execution_count": 15,
   "metadata": {},
   "outputs": [],
   "source": [
    "X_train, X_test, y_train, y_test = train_test_split(x, y, test_size=0.2, random_state=42)\n",
    "\n",
    "X_train, X_test, y_train, y_test = X_train.values, X_test.values, y_train.values, y_test.values"
   ]
  },
  {
   "cell_type": "code",
   "execution_count": 16,
   "metadata": {},
   "outputs": [
    {
     "data": {
      "text/plain": [
       "array([ 28,  23,  24, ..., 166, 211, 218], dtype=int64)"
      ]
     },
     "execution_count": 16,
     "metadata": {},
     "output_type": "execute_result"
    }
   ],
   "source": [
    "X_train[0]"
   ]
  },
  {
   "cell_type": "markdown",
   "metadata": {},
   "source": [
    "# SCALE DATA"
   ]
  },
  {
   "cell_type": "code",
   "execution_count": 17,
   "metadata": {},
   "outputs": [],
   "source": [
    "from sklearn.preprocessing import MinMaxScaler"
   ]
  },
  {
   "cell_type": "code",
   "execution_count": 18,
   "metadata": {},
   "outputs": [],
   "source": [
    "# Khởi tạo mô hình MinMaxScaler và fit trên tập huấn luyện\n",
    "scaler = MinMaxScaler()\n",
    "X_train_scaled = scaler.fit_transform(X_train)\n",
    "\n",
    "# Sử dụng mô hình đã fit để chuẩn hóa tập kiểm tra\n",
    "X_test_scaled = scaler.transform(X_test)"
   ]
  },
  {
   "cell_type": "markdown",
   "metadata": {},
   "source": [
    "# TRAIN"
   ]
  },
  {
   "cell_type": "code",
   "execution_count": 19,
   "metadata": {},
   "outputs": [
    {
     "name": "stdout",
     "output_type": "stream",
     "text": [
      "Accuracy: 0.616\n"
     ]
    }
   ],
   "source": [
    "from sklearn.svm import SVC\n",
    "# Huấn luyện mô hình SVM với các tham số cụ thể\n",
    "svm_model = SVC(C=0.1, gamma=0.1, kernel='linear', probability=True)\n",
    "svm_model.fit(X_train_scaled, y_train)\n",
    "\n",
    "# Dự đoán nhãn trên tập kiểm tra\n",
    "y_pred = svm_model.predict(X_test_scaled)\n",
    "\n",
    "# Đánh giá độ chính xác của mô hình\n",
    "accuracy = accuracy_score(y_test, y_pred)\n",
    "print(f'Accuracy: {accuracy}')"
   ]
  },
  {
   "cell_type": "markdown",
   "metadata": {},
   "source": [
    "# EVALUATE"
   ]
  },
  {
   "cell_type": "code",
   "execution_count": 20,
   "metadata": {},
   "outputs": [
    {
     "name": "stdout",
     "output_type": "stream",
     "text": [
      "Accuracy: 0.616\n",
      "\n",
      "Class Angry:\n",
      "  Precision: 0.5337\n",
      "  Recall: 0.5236\n",
      "  F1-Score: 0.5286\n",
      "\n",
      "Class Fear:\n",
      "  Precision: 0.4947\n",
      "  Recall: 0.4677\n",
      "  F1-Score: 0.4808\n",
      "\n",
      "Class Happy:\n",
      "  Precision: 0.8376\n",
      "  Recall: 0.8128\n",
      "  F1-Score: 0.8250\n",
      "\n",
      "Class Neutral:\n",
      "  Precision: 0.7835\n",
      "  Recall: 0.8085\n",
      "  F1-Score: 0.7958\n",
      "\n",
      "Class Sad:\n",
      "  Precision: 0.4455\n",
      "  Recall: 0.4796\n",
      "  F1-Score: 0.4619\n",
      "\n"
     ]
    }
   ],
   "source": [
    "from sklearn.metrics import precision_score, recall_score, f1_score\n",
    "\n",
    "# Tính precision, recall, và f1-score cho từng lớp\n",
    "precision = precision_score(y_test, y_pred, average=None)\n",
    "recall = recall_score(y_test, y_pred, average=None)\n",
    "f1 = f1_score(y_test, y_pred, average=None)\n",
    "\n",
    "class_names = ['Angry', 'Fear', 'Happy', 'Neutral', 'Sad']\n",
    "\n",
    "# Đánh giá độ chính xác của mô hình\n",
    "accuracy = accuracy_score(y_test, y_pred)\n",
    "print(f'Accuracy: {accuracy}\\n')\n",
    "\n",
    "for i in range(len(class_names)):\n",
    "    print(f\"Class {class_names[i]}:\")\n",
    "    print(f\"  Precision: {precision[i]:.4f}\")\n",
    "    print(f\"  Recall: {recall[i]:.4f}\")\n",
    "    print(f\"  F1-Score: {f1[i]:.4f}\")\n",
    "    print()\n"
   ]
  },
  {
   "cell_type": "markdown",
   "metadata": {},
   "source": [
    "# COMPARE WITH OTHERS"
   ]
  },
  {
   "cell_type": "code",
   "execution_count": 21,
   "metadata": {},
   "outputs": [
    {
     "name": "stderr",
     "output_type": "stream",
     "text": [
      "C:\\Users\\Admin\\AppData\\Local\\Packages\\PythonSoftwareFoundation.Python.3.11_qbz5n2kfra8p0\\LocalCache\\local-packages\\Python311\\site-packages\\sklearn\\linear_model\\_logistic.py:460: ConvergenceWarning: lbfgs failed to converge (status=1):\n",
      "STOP: TOTAL NO. of ITERATIONS REACHED LIMIT.\n",
      "\n",
      "Increase the number of iterations (max_iter) or scale the data as shown in:\n",
      "    https://scikit-learn.org/stable/modules/preprocessing.html\n",
      "Please also refer to the documentation for alternative solver options:\n",
      "    https://scikit-learn.org/stable/modules/linear_model.html#logistic-regression\n",
      "  n_iter_i = _check_optimize_result(\n",
      "C:\\Users\\Admin\\AppData\\Local\\Packages\\PythonSoftwareFoundation.Python.3.11_qbz5n2kfra8p0\\LocalCache\\local-packages\\Python311\\site-packages\\sklearn\\linear_model\\_logistic.py:460: ConvergenceWarning: lbfgs failed to converge (status=1):\n",
      "STOP: TOTAL NO. of ITERATIONS REACHED LIMIT.\n",
      "\n",
      "Increase the number of iterations (max_iter) or scale the data as shown in:\n",
      "    https://scikit-learn.org/stable/modules/preprocessing.html\n",
      "Please also refer to the documentation for alternative solver options:\n",
      "    https://scikit-learn.org/stable/modules/linear_model.html#logistic-regression\n",
      "  n_iter_i = _check_optimize_result(\n",
      "C:\\Users\\Admin\\AppData\\Local\\Packages\\PythonSoftwareFoundation.Python.3.11_qbz5n2kfra8p0\\LocalCache\\local-packages\\Python311\\site-packages\\sklearn\\linear_model\\_logistic.py:460: ConvergenceWarning: lbfgs failed to converge (status=1):\n",
      "STOP: TOTAL NO. of ITERATIONS REACHED LIMIT.\n",
      "\n",
      "Increase the number of iterations (max_iter) or scale the data as shown in:\n",
      "    https://scikit-learn.org/stable/modules/preprocessing.html\n",
      "Please also refer to the documentation for alternative solver options:\n",
      "    https://scikit-learn.org/stable/modules/linear_model.html#logistic-regression\n",
      "  n_iter_i = _check_optimize_result(\n",
      "C:\\Users\\Admin\\AppData\\Local\\Packages\\PythonSoftwareFoundation.Python.3.11_qbz5n2kfra8p0\\LocalCache\\local-packages\\Python311\\site-packages\\sklearn\\linear_model\\_logistic.py:460: ConvergenceWarning: lbfgs failed to converge (status=1):\n",
      "STOP: TOTAL NO. of ITERATIONS REACHED LIMIT.\n",
      "\n",
      "Increase the number of iterations (max_iter) or scale the data as shown in:\n",
      "    https://scikit-learn.org/stable/modules/preprocessing.html\n",
      "Please also refer to the documentation for alternative solver options:\n",
      "    https://scikit-learn.org/stable/modules/linear_model.html#logistic-regression\n",
      "  n_iter_i = _check_optimize_result(\n",
      "C:\\Users\\Admin\\AppData\\Local\\Packages\\PythonSoftwareFoundation.Python.3.11_qbz5n2kfra8p0\\LocalCache\\local-packages\\Python311\\site-packages\\sklearn\\linear_model\\_logistic.py:460: ConvergenceWarning: lbfgs failed to converge (status=1):\n",
      "STOP: TOTAL NO. of ITERATIONS REACHED LIMIT.\n",
      "\n",
      "Increase the number of iterations (max_iter) or scale the data as shown in:\n",
      "    https://scikit-learn.org/stable/modules/preprocessing.html\n",
      "Please also refer to the documentation for alternative solver options:\n",
      "    https://scikit-learn.org/stable/modules/linear_model.html#logistic-regression\n",
      "  n_iter_i = _check_optimize_result(\n"
     ]
    },
    {
     "name": "stdout",
     "output_type": "stream",
     "text": [
      "Logistic Regression - Cross-validation scores: [0.6125     0.60375    0.58375    0.60375    0.60700876]\n",
      "Logistic Regression - Mean accuracy: 0.6021517521902379\n",
      "MLP - Cross-validation scores: [0.59375    0.605      0.58       0.565      0.58823529]\n",
      "MLP - Mean accuracy: 0.5863970588235294\n",
      "Decision Tree - Cross-validation scores: [0.4325     0.4775     0.42875    0.455      0.43053817]\n",
      "Decision Tree - Mean accuracy: 0.444857634543179\n"
     ]
    }
   ],
   "source": [
    "# Machine Learning Models\n",
    "from sklearn.linear_model import LogisticRegression\n",
    "from sklearn.tree import DecisionTreeClassifier\n",
    "from sklearn.ensemble import RandomForestClassifier\n",
    "from sklearn.neural_network import MLPClassifier\n",
    "from sklearn.model_selection import train_test_split, cross_val_score\n",
    "\n",
    "# Define models\n",
    "models = {\n",
    "    'Logistic Regression': LogisticRegression(),\n",
    "    'MLP': MLPClassifier(hidden_layer_sizes=(100, 50), max_iter=500, random_state=42),\n",
    "    'Decision Tree': DecisionTreeClassifier()\n",
    "}\n",
    "\n",
    "# Evaluate each model using cross-validation\n",
    "for name, model in models.items():\n",
    "    cv_scores = cross_val_score(model, X_train_scaled, y_train, cv=5, scoring='accuracy')\n",
    "    print(f\"{name} - Cross-validation scores: {cv_scores}\")\n",
    "    print(f\"{name} - Mean accuracy: {np.mean(cv_scores)}\")\n"
   ]
  },
  {
   "cell_type": "markdown",
   "metadata": {},
   "source": [
    "# TEST"
   ]
  },
  {
   "cell_type": "code",
   "execution_count": 22,
   "metadata": {},
   "outputs": [],
   "source": [
    "def test(path):\n",
    "    # Đường dẫn của tấm ảnh\n",
    "    image_path = path\n",
    "\n",
    "    # Mở ảnh bằng Pillow\n",
    "    img = Image.open(image_path)\n",
    "\n",
    "    # Chuyển ảnh về ảnh trắng đen\n",
    "    img = img.convert(\"L\")\n",
    "\n",
    "    # Chuyển ảnh thành mảng NumPy\n",
    "    img_array = np.array(img)\n",
    "\n",
    "    # Resize ảnh về kích thước mong muốn\n",
    "    resized_img = cv2.resize(img_array, (48, 48))\n",
    "\n",
    "    flattened_img = resized_img.flatten().reshape(-1, 1)\n",
    "    # Use MinMaxScaler\n",
    "    scaler = MinMaxScaler()\n",
    "    img1 = scaler.fit_transform(flattened_img).T\n",
    "\n",
    "    y_pred = svm_model.predict(img1)\n",
    "\n",
    "    return y_pred"
   ]
  },
  {
   "cell_type": "code",
   "execution_count": 23,
   "metadata": {},
   "outputs": [
    {
     "data": {
      "text/plain": [
       "array([0], dtype=int64)"
      ]
     },
     "execution_count": 23,
     "metadata": {},
     "output_type": "execute_result"
    }
   ],
   "source": [
    "test(\"images/fear/fear (151).jpg\")"
   ]
  },
  {
   "cell_type": "markdown",
   "metadata": {},
   "source": [
    "# SAVE MODEL"
   ]
  },
  {
   "cell_type": "code",
   "execution_count": 24,
   "metadata": {},
   "outputs": [
    {
     "data": {
      "text/plain": [
       "['svm_model.joblib']"
      ]
     },
     "execution_count": 24,
     "metadata": {},
     "output_type": "execute_result"
    }
   ],
   "source": [
    "from joblib import dump\n",
    "dump(svm_model, 'svm_model.joblib')"
   ]
  },
  {
   "cell_type": "markdown",
   "metadata": {},
   "source": [
    "# Tune"
   ]
  },
  {
   "cell_type": "code",
   "execution_count": 25,
   "metadata": {},
   "outputs": [
    {
     "name": "stdout",
     "output_type": "stream",
     "text": [
      "Best Parameters: {'C': 0.1, 'gamma': 0.1, 'kernel': 'linear'}\n",
      "Accuracy: 0.586\n"
     ]
    }
   ],
   "source": [
    "from sklearn.model_selection import GridSearchCV\n",
    "from sklearn.svm import SVC\n",
    "from sklearn.metrics import accuracy_score\n",
    "# Thiết lập các giá trị thử nghiệm cho C, kernel và gamma\n",
    "param_grid = {'C': [0.1, 1, 10, 100, 10000],\n",
    "              'kernel': ['linear', 'rbf'],\n",
    "              'gamma': [0.1, 0.5, 5, 50]}\n",
    "\n",
    "# Tạo mô hình SVM\n",
    "svm_model = SVC()\n",
    "\n",
    "# Sử dụng GridSearchCV để tìm kiếm qua lưới tham số\n",
    "grid_search = GridSearchCV(svm_model, param_grid, cv=5, scoring='accuracy')\n",
    "grid_search.fit(X_train, y_train)\n",
    "\n",
    "# In ra tham số tốt nhất\n",
    "print(\"Best Parameters:\", grid_search.best_params_)\n",
    "\n",
    "# Đánh giá mô hình trên tập kiểm tra\n",
    "y_pred = grid_search.predict(X_test)\n",
    "accuracy = accuracy_score(y_test, y_pred)\n",
    "print(f\"Accuracy: {accuracy}\")"
   ]
  },
  {
   "cell_type": "markdown",
   "metadata": {},
   "source": [
    "# INTERFACE\n"
   ]
  },
  {
   "cell_type": "code",
   "execution_count": 26,
   "metadata": {},
   "outputs": [
    {
     "name": "stderr",
     "output_type": "stream",
     "text": [
      "C:\\Users\\Admin\\AppData\\Local\\Packages\\PythonSoftwareFoundation.Python.3.11_qbz5n2kfra8p0\\LocalCache\\local-packages\\Python311\\site-packages\\gradio\\interface.py:317: UserWarning: The `allow_flagging` parameter in `Interface` nowtakes a string value ('auto', 'manual', or 'never'), not a boolean. Setting parameter to: 'never'.\n",
      "  warnings.warn(\n"
     ]
    },
    {
     "name": "stdout",
     "output_type": "stream",
     "text": [
      "Running on local URL:  http://127.0.0.1:7865\n",
      "Running on public URL: https://6b77e2a9facd9fa75d.gradio.live\n",
      "\n",
      "This share link expires in 72 hours. For free permanent hosting and GPU upgrades, run `gradio deploy` from Terminal to deploy to Spaces (https://huggingface.co/spaces)\n"
     ]
    },
    {
     "data": {
      "text/html": [
       "<div><iframe src=\"https://6b77e2a9facd9fa75d.gradio.live\" width=\"100%\" height=\"500\" allow=\"autoplay; camera; microphone; clipboard-read; clipboard-write;\" frameborder=\"0\" allowfullscreen></iframe></div>"
      ],
      "text/plain": [
       "<IPython.core.display.HTML object>"
      ]
     },
     "metadata": {},
     "output_type": "display_data"
    },
    {
     "data": {
      "text/plain": []
     },
     "execution_count": 26,
     "metadata": {},
     "output_type": "execute_result"
    }
   ],
   "source": [
    "import gradio as gr\n",
    "import numpy as np\n",
    "from PIL import Image\n",
    "from joblib import load\n",
    "import dlib\n",
    "\n",
    "svm_model = load('svm_model.h5')\n",
    "\n",
    "emotion_labels = {\n",
    "    0: \"Angry\",\n",
    "    1: \"Fear\",\n",
    "    2: \"Happy\",\n",
    "    3: \"Neutral\",\n",
    "    4: \"Sad\",\n",
    "}\n",
    "\n",
    "# Load dlib's pre-trained face detector\n",
    "detector = dlib.get_frontal_face_detector()\n",
    "\n",
    "def predict_emotion(image):\n",
    "    # Convert Gradio Image to NumPy array\n",
    "    img_array = np.array(image)\n",
    "\n",
    "    # Convert to grayscale\n",
    "    processed_image = Image.fromarray(img_array).convert('L').resize((48, 48))\n",
    "\n",
    "    # Convert to NumPy array\n",
    "    processed_image_array = np.array(processed_image)\n",
    "\n",
    "    # Flatten and reshape\n",
    "    flattened_img = processed_image_array.flatten().reshape(1, -1) / 255.0\n",
    "\n",
    "    # Make prediction using SVM model\n",
    "    prediction = svm_model.predict(flattened_img)[0]\n",
    "\n",
    "    # Detect faces using dlib\n",
    "    faces = detector(img_array, 1)\n",
    "    \n",
    "    if len(faces) == 0:\n",
    "        cropped_face = img_array\n",
    "    else:\n",
    "        # Assuming there's only one face detected, you can modify this if needed\n",
    "        x, y, w, h = faces[0].left(), faces[0].top(), faces[0].width(), faces[0].height()\n",
    "        cropped_face = img_array[y:y+h, x:x+w]\n",
    "\n",
    "    return emotion_labels[prediction], cropped_face\n",
    "\n",
    "\n",
    "iface = gr.Interface(\n",
    "    fn=predict_emotion,\n",
    "    inputs=\"image\",\n",
    "    outputs=[\"text\", \"image\"],  \n",
    "    title=\"Emotion Detection\",\n",
    "    description=\"Tải lên một ảnh để dự đoán cảm xúc.\",\n",
    "    allow_flagging= False,\n",
    ")\n",
    "\n",
    "iface.launch(share = True)\n"
   ]
  }
 ],
 "metadata": {
  "kernelspec": {
   "display_name": "Python 3",
   "language": "python",
   "name": "python3"
  },
  "language_info": {
   "codemirror_mode": {
    "name": "ipython",
    "version": 3
   },
   "file_extension": ".py",
   "mimetype": "text/x-python",
   "name": "python",
   "nbconvert_exporter": "python",
   "pygments_lexer": "ipython3",
   "version": "3.11.7"
  }
 },
 "nbformat": 4,
 "nbformat_minor": 2
}
