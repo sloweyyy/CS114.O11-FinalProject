{
 "cells": [
  {
   "cell_type": "markdown",
   "metadata": {},
   "source": [
    "# CROP IMAGE"
   ]
  },
  {
   "cell_type": "code",
   "execution_count": 2,
   "metadata": {},
   "outputs": [],
   "source": [
    "import cv2\n",
    "import os\n",
    "\n",
    "input_directory = \"image/sad\"\n",
    "output_directory = \"image/sad/output\"\n",
    "\n",
    "if not os.path.exists(output_directory):\n",
    "    os.makedirs(output_directory)\n",
    "\n",
    "for file in os.listdir(input_directory):\n",
    "    file_path = os.path.join(input_directory, file)\n",
    "\n",
    "    if file.endswith(\".jpg\") or file.endswith(\".png\"):\n",
    "        image = cv2.imread(file_path)\n",
    "        gray = cv2.cvtColor(image, cv2.COLOR_BGR2GRAY)\n",
    "\n",
    "        face_cascade = cv2.CascadeClassifier(cv2.data.haarcascades + 'haarcascade_frontalface_default.xml')\n",
    "        faces = face_cascade.detectMultiScale(gray, scaleFactor=1.1, minNeighbors=5, minSize=(30, 30))\n",
    "\n",
    "        for (x, y, w, h) in faces:\n",
    "            x = max(0, x - 5)\n",
    "            y = max(0, y - 5)\n",
    "            if x + w + 10 <= image.shape[1] and y + h + 10 <= image.shape[0]:\n",
    "                w += 10\n",
    "                h += 10\n",
    "\n",
    "            face = image[y:y+h, x:x+w]\n",
    "\n",
    "            resized_face = cv2.resize(face, (48, 48))\n",
    "\n",
    "            output_path = os.path.join(output_directory, file)\n",
    "            cv2.imwrite(output_path, resized_face)\n"
   ]
  }
 ],
 "metadata": {
  "kernelspec": {
   "display_name": "Python 3",
   "language": "python",
   "name": "python3"
  },
  "language_info": {
   "codemirror_mode": {
    "name": "ipython",
    "version": 3
   },
   "file_extension": ".py",
   "mimetype": "text/x-python",
   "name": "python",
   "nbconvert_exporter": "python",
   "pygments_lexer": "ipython3",
   "version": "3.11.7"
  }
 },
 "nbformat": 4,
 "nbformat_minor": 2
}
