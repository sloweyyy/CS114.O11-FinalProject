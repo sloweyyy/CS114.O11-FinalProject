{
  "cells": [
    {
      "cell_type": "code",
      "execution_count": null,
      "metadata": {
        "id": "eNBEDg1NTzwh"
      },
      "outputs": [],
      "source": [
        "# This Python 3 environment comes with many helpful analytics libraries installed\n",
        "# It is defined by the kaggle/python Docker image: https://github.com/kaggle/docker-python\n",
        "# For example, here's several helpful packages to load\n",
        "\n",
        "import numpy as np # linear algebra\n",
        "import pandas as pd # data processing, CSV file I/O (e.g. pd.read_csv)\n",
        "\n",
        "# Input data files are available in the read-only \"../input/\" directory\n",
        "# For example, running this (by clicking run or pressing Shift+Enter) will list all files under the input directory\n",
        "\n",
        "import os\n",
        "for dirname, _, filenames in os.walk('/kaggle/input'):\n",
        "    for filename in filenames:\n",
        "        print(os.path.join(dirname, filename))\n",
        "\n",
        "# You can write up to 20GB to the current directory (/kaggle/working/) that gets preserved as output when you create a version using \"Save & Run All\"\n",
        "# You can also write temporary files to /kaggle/temp/, but they won't be saved outside of the current session"
      ]
    },
    {
      "cell_type": "code",
      "execution_count": null,
      "metadata": {
        "id": "6omNvIcITzwk"
      },
      "outputs": [],
      "source": [
        "import pandas as pd"
      ]
    },
    {
      "cell_type": "code",
      "execution_count": null,
      "metadata": {
        "id": "CWGItGquTzwl"
      },
      "outputs": [],
      "source": [
        "data = pd.read_csv(\"dataset.csv\")"
      ]
    },
    {
      "cell_type": "code",
      "execution_count": null,
      "metadata": {
        "colab": {
          "base_uri": "https://localhost:8080/"
        },
        "id": "poXHzr3MTzwm",
        "outputId": "4a9ed6a7-047a-48a3-d9a7-f4b83db6238d"
      },
      "outputs": [],
      "source": [
        "data.shape"
      ]
    },
    {
      "cell_type": "code",
      "execution_count": null,
      "metadata": {
        "id": "FxQ5kFA-Tzwm"
      },
      "outputs": [],
      "source": [
        "x_data = data['pixels']\n",
        "y_data = data['emotion']"
      ]
    },
    {
      "cell_type": "code",
      "execution_count": null,
      "metadata": {
        "colab": {
          "base_uri": "https://localhost:8080/",
          "height": 458
        },
        "id": "2weNVzB1Tzwm",
        "outputId": "49333901-b153-4995-a94f-97696248e55f"
      },
      "outputs": [],
      "source": [
        "import seaborn as sns\n",
        "import matplotlib.pyplot as plt\n",
        "\n",
        "sns.set_theme(style=\"darkgrid\")\n",
        "ax = sns.countplot(x=\"emotion\", data=data)\n",
        "\n",
        "for p in ax.patches:\n",
        "    ax.annotate(f'{int(p.get_height())}', (p.get_x() + p.get_width() / 2., p.get_height()),\n",
        "                ha='center', va='center', fontsize=10, color='black', xytext=(0, 5),\n",
        "                textcoords='offset points')\n",
        "\n",
        "plt.show()\n"
      ]
    },
    {
      "cell_type": "code",
      "execution_count": null,
      "metadata": {},
      "outputs": [],
      "source": [
        "%pip install imbalanced-learn"
      ]
    },
    {
      "cell_type": "code",
      "execution_count": null,
      "metadata": {
        "colab": {
          "base_uri": "https://localhost:8080/"
        },
        "id": "Pi_Tpm1VTzwm",
        "outputId": "bf1e13f9-fb9f-40ee-a145-726483117ed5"
      },
      "outputs": [],
      "source": [
        "import numpy as np\n",
        "from imblearn.over_sampling import RandomOverSampler\n",
        "\n",
        "# Assuming x_data and y_data are pandas Series\n",
        "x_data_array = np.array(x_data).reshape(-1, 1)\n",
        "y_data_array = np.array(y_data)\n",
        "\n",
        "# Create RandomOverSampler\n",
        "oversampler = RandomOverSampler(sampling_strategy='auto')\n",
        "\n",
        "# Resample the data\n",
        "x_resampled, y_resampled = oversampler.fit_resample(x_data_array, y_data_array)\n",
        "\n",
        "print(x_resampled.shape, y_resampled.shape)\n"
      ]
    },
    {
      "cell_type": "code",
      "execution_count": null,
      "metadata": {
        "colab": {
          "base_uri": "https://localhost:8080/"
        },
        "id": "MvFyjLCaTzwn",
        "outputId": "d9b778bc-0eb2-4af3-cf8d-c6a6247612c7"
      },
      "outputs": [],
      "source": [
        "y_data.value_counts()"
      ]
    },
    {
      "cell_type": "code",
      "execution_count": null,
      "metadata": {
        "colab": {
          "base_uri": "https://localhost:8080/"
        },
        "id": "7kQZEV_pTzwn",
        "outputId": "589b4e74-3b2c-410c-fb7a-20f07bcb532b"
      },
      "outputs": [],
      "source": [
        "x_data = pd.Series(x_data.values.flatten())\n",
        "x_data"
      ]
    },
    {
      "cell_type": "code",
      "execution_count": null,
      "metadata": {
        "id": "Nq5QB3bgTzwo"
      },
      "outputs": [],
      "source": [
        "x_data = np.array(list(map(str.split, x_data)), np.float32)\n",
        "x_data/=255"
      ]
    },
    {
      "cell_type": "code",
      "execution_count": null,
      "metadata": {
        "colab": {
          "base_uri": "https://localhost:8080/"
        },
        "id": "LSsp79EFTzwo",
        "outputId": "22171761-f37d-4d98-c42c-32d8a90fe2c5"
      },
      "outputs": [],
      "source": [
        "y_data = np.array(y_data)\n",
        "y_data = y_data.reshape(y_data.shape[0], 1)\n",
        "y_data.shape"
      ]
    },
    {
      "cell_type": "code",
      "execution_count": null,
      "metadata": {
        "id": "gi2X_reHTzwo"
      },
      "outputs": [],
      "source": [
        "from sklearn.model_selection import train_test_split"
      ]
    },
    {
      "cell_type": "code",
      "execution_count": null,
      "metadata": {
        "colab": {
          "base_uri": "https://localhost:8080/"
        },
        "id": "kPOhbkt3Tzwo",
        "outputId": "83646998-42a1-4710-e751-3be20154edaf"
      },
      "outputs": [],
      "source": [
        "x_train, x_test, y_train, y_test = train_test_split(x_data, y_data, test_size = 0.1, random_state = 45)\n",
        "print(x_train.shape,\" \",y_train.shape)"
      ]
    },
    {
      "cell_type": "code",
      "execution_count": null,
      "metadata": {
        "id": "3PI4UDORTzwp"
      },
      "outputs": [],
      "source": [
        "from sklearn.neighbors import KNeighborsClassifier"
      ]
    },
    {
      "cell_type": "markdown",
      "metadata": {
        "id": "qrLre2pnTzwp"
      },
      "source": [
        "# ***KNN CLASSIFIER***"
      ]
    },
    {
      "cell_type": "code",
      "execution_count": null,
      "metadata": {
        "colab": {
          "base_uri": "https://localhost:8080/",
          "height": 131
        },
        "id": "t_lIOqPUTzwq",
        "outputId": "7d3e9edd-6460-402f-a03c-7dbdaa62695f"
      },
      "outputs": [],
      "source": [
        "knn=KNeighborsClassifier(n_neighbors=3)\n",
        "knn.fit(x_train,y_train)"
      ]
    },
    {
      "cell_type": "code",
      "execution_count": null,
      "metadata": {
        "colab": {
          "base_uri": "https://localhost:8080/"
        },
        "id": "2wExoKklTzwq",
        "outputId": "f645bf28-bd33-4106-c69c-2e9e9d1df859"
      },
      "outputs": [],
      "source": [
        "knn.score(x_test,y_test)"
      ]
    },
    {
      "cell_type": "code",
      "execution_count": null,
      "metadata": {
        "id": "qLxV3nUWTzwq"
      },
      "outputs": [],
      "source": [
        "from sklearn.metrics import confusion_matrix\n",
        "y_pred=knn.predict(x_test)\n",
        "cm=confusion_matrix(y_test,y_pred)"
      ]
    },
    {
      "cell_type": "code",
      "execution_count": null,
      "metadata": {
        "colab": {
          "base_uri": "https://localhost:8080/"
        },
        "id": "Hd1JNq0wTzwq",
        "outputId": "27140936-6ca4-45bb-a5b0-eb613bf90d71"
      },
      "outputs": [],
      "source": [
        "cm"
      ]
    },
    {
      "cell_type": "code",
      "execution_count": null,
      "metadata": {
        "colab": {
          "base_uri": "https://localhost:8080/",
          "height": 491
        },
        "id": "rdTiT3eZTzwr",
        "outputId": "164522e0-3225-4d0c-e1c5-f0d6ddbc86e3"
      },
      "outputs": [],
      "source": [
        "%matplotlib inline\n",
        "\n",
        "import matplotlib.pyplot as plt\n",
        "import seaborn as sns\n",
        "plt.figure(figsize=(7,5))\n",
        "sns.heatmap(cm,annot=True)\n",
        "plt.xlabel(\"Predicted\")\n",
        "plt.ylabel(\"Truth\")"
      ]
    },
    {
      "cell_type": "code",
      "execution_count": null,
      "metadata": {},
      "outputs": [],
      "source": [
        "from joblib import dump, load\n",
        "dump(knn, 'knn.joblib')"
      ]
    },
    {
      "cell_type": "markdown",
      "metadata": {
        "id": "F4bp_rEDTzwr"
      },
      "source": [
        "# ***RANDOM FOREST***"
      ]
    },
    {
      "cell_type": "code",
      "execution_count": null,
      "metadata": {
        "colab": {
          "base_uri": "https://localhost:8080/",
          "height": 131
        },
        "id": "csWPLVMPTzwr",
        "outputId": "dfd38443-5e63-46fd-eb5e-a486b7db7372"
      },
      "outputs": [],
      "source": [
        "from sklearn.ensemble import RandomForestClassifier\n",
        "model=RandomForestClassifier()\n",
        "model.fit(x_train,y_train)"
      ]
    },
    {
      "cell_type": "code",
      "execution_count": null,
      "metadata": {
        "colab": {
          "base_uri": "https://localhost:8080/"
        },
        "id": "5RvyjqIHTzwr",
        "outputId": "da951f0e-9cf7-45e4-82c9-aded3aa32fdc"
      },
      "outputs": [],
      "source": [
        "model.score(x_test,y_test)"
      ]
    },
    {
      "cell_type": "code",
      "execution_count": null,
      "metadata": {
        "id": "XUJrJ1G0Tzwr"
      },
      "outputs": [],
      "source": [
        "from sklearn.metrics import confusion_matrix\n",
        "y_pred=model.predict(x_test)\n",
        "cm=confusion_matrix(y_test,y_pred)"
      ]
    },
    {
      "cell_type": "code",
      "execution_count": null,
      "metadata": {
        "colab": {
          "base_uri": "https://localhost:8080/"
        },
        "id": "j10sgmh3Tzwr",
        "outputId": "e92c1898-1076-4dbf-b211-76f1d9a896f2"
      },
      "outputs": [],
      "source": [
        "cm"
      ]
    },
    {
      "cell_type": "code",
      "execution_count": null,
      "metadata": {
        "colab": {
          "base_uri": "https://localhost:8080/",
          "height": 491
        },
        "id": "HB7I-GXxTzwr",
        "outputId": "3d609bb3-78b9-4521-fe45-cdb092d49ac5"
      },
      "outputs": [],
      "source": [
        "%matplotlib inline\n",
        "\n",
        "import matplotlib.pyplot as plt\n",
        "import seaborn as sns\n",
        "plt.figure(figsize=(7,5))\n",
        "sns.heatmap(cm,annot=True)\n",
        "plt.xlabel(\"Predicted\")\n",
        "plt.ylabel(\"Truth\")"
      ]
    },
    {
      "cell_type": "code",
      "execution_count": null,
      "metadata": {
        "colab": {
          "base_uri": "https://localhost:8080/"
        },
        "id": "4IoaMdLg3fKG",
        "outputId": "f20a686a-d937-4699-bd09-6e086b08de18"
      },
      "outputs": [],
      "source": [
        "from joblib import dump, load\n",
        "dump(model, 'random_forest_model.joblib')"
      ]
    },
    {
      "cell_type": "markdown",
      "metadata": {
        "id": "nReInddewfu6"
      },
      "source": [
        "# GRADIO.APP"
      ]
    },
    {
      "cell_type": "code",
      "execution_count": null,
      "metadata": {
        "colab": {
          "base_uri": "https://localhost:8080/"
        },
        "id": "EFQnZ5z13sNN",
        "outputId": "18ef431b-1aea-4c70-ee58-443d9b2c730b"
      },
      "outputs": [],
      "source": [
        "%pip install gradio\n"
      ]
    },
    {
      "cell_type": "markdown",
      "metadata": {},
      "source": [
        "RANDOM FOREST MODEL"
      ]
    },
    {
      "cell_type": "code",
      "execution_count": null,
      "metadata": {},
      "outputs": [],
      "source": [
        "%pip install --upgrade typing-extensions"
      ]
    },
    {
      "cell_type": "code",
      "execution_count": null,
      "metadata": {},
      "outputs": [],
      "source": [
        "%pip install -U gradio\n"
      ]
    },
    {
      "cell_type": "code",
      "execution_count": null,
      "metadata": {
        "colab": {
          "base_uri": "https://localhost:8080/",
          "height": 606
        },
        "id": "9Jep-yyBwe2K",
        "outputId": "42f16c0b-0c23-43ca-cb34-301ae9d6b009"
      },
      "outputs": [],
      "source": [
        "import gradio as gr\n",
        "import numpy as np\n",
        "from PIL import Image\n",
        "from joblib import load\n",
        "\n",
        "# Load the trained model\n",
        "model = load('random_forest_model.joblib')\n",
        "\n",
        "emotion_labels = {\n",
        "    0: \"Angry\",\n",
        "    1: \"Fear\",\n",
        "    2: \"Sad\",\n",
        "    3: \"Neutral\",\n",
        "    4: \"Happy\",\n",
        "    5: \"Other\"\n",
        "}\n",
        "\n",
        "def preprocess_image(image):\n",
        "    # Convert the image to grayscale\n",
        "    gray_image = Image.fromarray(image).convert('L')\n",
        "    # Resize the image to match the model's expected input size\n",
        "    resized_image = gray_image.resize((48,48))\n",
        "    # Flatten the image to a 1D array and normalize\n",
        "    processed_image = np.array(resized_image).flatten().reshape(1, -1) / 255.0\n",
        "    return processed_image\n",
        "\n",
        "def predict_emotion(image):\n",
        "    try:\n",
        "        processed_image = preprocess_image(image)\n",
        "        prediction = model.predict(processed_image)[0]\n",
        "        emotion = emotion_labels[prediction]\n",
        "        return emotion\n",
        "    except Exception as e:\n",
        "        print(f\"Error predicting emotion: {str(e)}\")\n",
        "        return \"Other\"\n",
        "\n",
        "iface = gr.Interface(\n",
        "    fn=predict_emotion,\n",
        "    inputs=gr.Image(),\n",
        "    outputs=\"text\",\n",
        "    title=\"Emotion Detection\",\n",
        "    description=\"Tải ảnh lên để dự đoán cảm xúc.\"\n",
        ")\n",
        "\n",
        "iface.launch()\n"
      ]
    },
    {
      "cell_type": "markdown",
      "metadata": {},
      "source": [
        "KNN CLASSIFIER"
      ]
    },
    {
      "cell_type": "code",
      "execution_count": null,
      "metadata": {},
      "outputs": [],
      "source": [
        "%pip uninstall gradio\n",
        "%pip install gradio\n"
      ]
    },
    {
      "cell_type": "code",
      "execution_count": null,
      "metadata": {},
      "outputs": [],
      "source": [
        "import gradio as gr\n",
        "\n",
        "print(gr.__version__)\n"
      ]
    },
    {
      "cell_type": "code",
      "execution_count": null,
      "metadata": {},
      "outputs": [],
      "source": [
        "%pip install -U gradio numpy pillow scikit-learn\n"
      ]
    },
    {
      "cell_type": "code",
      "execution_count": null,
      "metadata": {},
      "outputs": [],
      "source": [
        "import gradio as gr\n",
        "import numpy as np\n",
        "from PIL import Image\n",
        "from joblib import load\n",
        "\n",
        "# Load the trained model\n",
        "model = load('knn.joblib')\n",
        "\n",
        "emotion_labels = {\n",
        "    0: \"Angry\",\n",
        "    1: \"Fear\",\n",
        "    2: \"Sad\",\n",
        "    3: \"Neutral\",\n",
        "    4: \"Happy\",\n",
        "    5: \"Other\"\n",
        "}\n",
        "\n",
        "def preprocess_image(image):\n",
        "    # Convert the image to grayscale\n",
        "    gray_image = Image.fromarray(image).convert('L')\n",
        "    # Resize the image to match the model's expected input size\n",
        "    resized_image = gray_image.resize((48, 48))\n",
        "    # Flatten the image to a 1D array and normalize\n",
        "    processed_image = np.array(resized_image).flatten().reshape(1, -1) / 255.0\n",
        "    return processed_image\n",
        "\n",
        "def predict_emotion(image):\n",
        "    try:\n",
        "        processed_image = preprocess_image(image)\n",
        "        prediction = model.predict(processed_image)[0]\n",
        "        emotion = emotion_labels[prediction]\n",
        "        return emotion\n",
        "    except Exception as e:\n",
        "        print(f\"Error predicting emotion: {str(e)}\")\n",
        "        return \"Other\"\n",
        "\n",
        "iface = gr.Interface(\n",
        "    fn=predict_emotion,\n",
        "    inputs=gr.Image(),\n",
        "    outputs=\"text\",\n",
        "    title=\"Emotion Detection\",\n",
        "    description=\"Upload a grayscale image, convert it to black and white, and predict the emotion.\"\n",
        ")\n",
        "\n",
        "iface.launch()\n"
      ]
    }
  ],
  "metadata": {
    "colab": {
      "provenance": []
    },
    "kaggle": {
      "accelerator": "gpu",
      "dataSources": [
        {
          "datasetId": 745694,
          "sourceId": 1290907,
          "sourceType": "datasetVersion"
        }
      ],
      "dockerImageVersionId": 30176,
      "isGpuEnabled": true,
      "isInternetEnabled": false,
      "language": "python",
      "sourceType": "notebook"
    },
    "kernelspec": {
      "display_name": "Python 3",
      "language": "python",
      "name": "python3"
    },
    "language_info": {
      "codemirror_mode": {
        "name": "ipython",
        "version": 3
      },
      "file_extension": ".py",
      "mimetype": "text/x-python",
      "name": "python",
      "nbconvert_exporter": "python",
      "pygments_lexer": "ipython3",
      "version": "3.11.7"
    }
  },
  "nbformat": 4,
  "nbformat_minor": 0
}
